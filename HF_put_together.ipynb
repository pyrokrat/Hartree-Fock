{
 "cells": [
  {
   "cell_type": "code",
   "execution_count": 1,
   "metadata": {},
   "outputs": [],
   "source": [
    "import numpy as np\n",
    "from pyscf import gto, scf, df"
   ]
  },
  {
   "cell_type": "code",
   "execution_count": 43,
   "metadata": {},
   "outputs": [],
   "source": [
    "#mol = gto.M(atom='He 0 0 0; H 0 0 1', basis='6-311G', charge = 1)\n",
    "#mol = gto.M(atom='He 0 0 0; H 0 0 1', basis='6-31G**', charge = 1)\n",
    "mol = gto.M(atom='C 0 0 0; O 0 0 1.128', basis='STO-6G', charge = 0)\n",
    "#mol = gto.M(atom='H 0 0 0; H 0 0 0.740848149', basis='STO-3G', charge = 0)\n",
    "#mol = gto.M(atom=\"O 0.00000 0.00000 0.11779; H 0.00000 0.75545 -0.47116; H 0.00000 -0.75545 -0.47116\", basis = \"sto-3g\")"
   ]
  },
  {
   "cell_type": "code",
   "execution_count": 44,
   "metadata": {},
   "outputs": [],
   "source": [
    "#get integrals and calculate core Hamiltonian\n",
    "\n",
    "overlap_integrals = mol.intor('int1e_ovlp_sph')\n",
    "#print(\"overlap_integrals\")\n",
    "#print(overlap_integrals)\n",
    "kinetic_energy_integrals = mol.intor('int1e_kin_sph')\n",
    "#print(\"kinetic_energy_integrals\")\n",
    "#print(kinetic_energy_integrals)\n",
    "nuclear_attraction_integrals = mol.intor('int1e_nuc_sph')\n",
    "#print(\"nuclear_attraction_integrals\")\n",
    "#print(nuclear_attraction_integrals)\n",
    "two_electron_integrals = mol.intor('int2e_sph')\n",
    "#print(\"two_electron_integrals\")\n",
    "#print(two_electron_integrals)\n",
    "H_core = kinetic_energy_integrals + nuclear_attraction_integrals"
   ]
  },
  {
   "cell_type": "code",
   "execution_count": 45,
   "metadata": {},
   "outputs": [],
   "source": [
    "#diagonalize overlap matrix\n",
    "overlap_diag_procedure = np.linalg.eigh(overlap_integrals)\n",
    "#get U and S^-0.5\n",
    "U = overlap_diag_procedure[1]\n",
    "s_inverse_sqrt = np.diag(1/overlap_diag_procedure[0])**0.5\n",
    "#get transformation matrix X\n",
    "X = np.matmul(U,np.matmul(s_inverse_sqrt,np.matrix.transpose(U)))"
   ]
  },
  {
   "cell_type": "code",
   "execution_count": 46,
   "metadata": {},
   "outputs": [],
   "source": [
    "#set guess for P matrix, default core hamiltonian\n",
    "P = np.zeros((overlap_integrals.shape[0], overlap_integrals.shape[0]))"
   ]
  },
  {
   "cell_type": "code",
   "execution_count": 47,
   "metadata": {},
   "outputs": [
    {
     "name": "stdout",
     "output_type": "stream",
     "text": [
      "iteration 1         energy = -131.0269716629788        difference = 10131.02697166298      \n",
      "iteration 2         energy = -131.034792954747         difference = 0.007821291768181027   \n",
      "iteration 3         energy = -133.6386228119846        difference = 2.6038298572375993     \n",
      "iteration 4         energy = -133.51905031417581       difference = 0.11957249780877532    \n",
      "iteration 5         energy = -134.3078846494269        difference = 0.7888343352510958     \n",
      "iteration 6         energy = -134.34156325242898       difference = 0.03367860300207326    \n",
      "iteration 7         energy = -134.60555224526058       difference = 0.2639889928315995     \n",
      "iteration 8         energy = -134.64881443885344       difference = 0.04326219359285233    \n",
      "iteration 9         energy = -134.7359807881252        difference = 0.0871663492717687     \n",
      "iteration 10        energy = -134.76045361624725       difference = 0.02447282812204321    \n",
      "iteration 11        energy = -134.7891663572573        difference = 0.028712741010053833   \n",
      "iteration 12        energy = -134.8000349561973        difference = 0.010868598939993035   \n",
      "iteration 13        energy = -134.80960450227784       difference = 0.009569546080541613   \n",
      "iteration 14        energy = -134.81393695956578       difference = 0.00433245728794418    \n",
      "iteration 15        energy = -134.81718116682268       difference = 0.003244207256898335   \n",
      "iteration 16        energy = -134.81881918358698       difference = 0.0016380167643035293  \n",
      "iteration 17        energy = -134.819936209059         difference = 0.001117025472012756   \n",
      "iteration 18        energy = -134.82053887249756       difference = 0.0006026634385705165  \n",
      "iteration 19        energy = -134.8209279681444        difference = 0.00038909564682398923 \n",
      "iteration 20        energy = -134.8211464835387        difference = 0.0002185153943230489  \n",
      "iteration 21        energy = -134.82128308621105       difference = 0.00013660267234172352 \n",
      "iteration 22        energy = -134.82136167527034       difference = 7.858905928515014e-05  \n",
      "iteration 23        energy = -134.8214098753036        difference = 4.8200033262446595e-05 \n",
      "iteration 24        energy = -134.82143800938564       difference = 2.8134082043607123e-05 \n",
      "iteration 25        energy = -134.8214550699866        difference = 1.706060095330031e-05  \n",
      "iteration 26        energy = -134.8214651147308        difference = 1.0044744215065293e-05 \n",
      "iteration 27        energy = -134.82147116495892       difference = 6.050228108733791e-06  \n",
      "iteration 28        energy = -134.82147474561518       difference = 3.580656255053327e-06  \n",
      "iteration 29        energy = -134.82147689370092       difference = 2.148085741282557e-06  \n",
      "iteration 30        energy = -134.82147816891674       difference = 1.2752158227158361e-06 \n",
      "iteration 31        energy = -134.82147893210862       difference = 7.631918776951352e-07  \n",
      "iteration 32        energy = -134.8214793860149        difference = 4.5390626723929017e-07 \n",
      "iteration 33        energy = -134.8214796572818        difference = 2.7126691293233307e-07 \n",
      "iteration 34        energy = -134.8214798187946        difference = 1.6151278714460204e-07 \n",
      "iteration 35        energy = -134.82147991523718       difference = 9.644259080232587e-08  \n",
      "iteration 36        energy = -134.82147997269678       difference = 5.7459601521259174e-08 \n",
      "iteration 37        energy = -134.82148000698973       difference = 3.4292952477699146e-08 \n",
      "iteration 38        energy = -134.8214800274292        difference = 2.0439472336875042e-08 \n",
      "iteration 39        energy = -134.82148003962416       difference = 1.2194959708722308e-08 \n",
      "iteration 40        energy = -134.82148004689435       difference = 7.270188007169054e-09  \n",
      "energy converged\n"
     ]
    }
   ],
   "source": [
    "#start iterations\n",
    "counter = 0\n",
    "maxiter = 100\n",
    "energy_difference=10000\n",
    "energy_last_iter=10000\n",
    "energy=0\n",
    "\n",
    "for counter in range(0,maxiter):\n",
    "    G = np.zeros((overlap_integrals.shape[0], overlap_integrals.shape[0]))\n",
    "\n",
    "    for i in range(0,two_electron_integrals.shape[0]):\n",
    "        for j in range(0,two_electron_integrals.shape[1]):\n",
    "            for k in range(0,two_electron_integrals.shape[2]):\n",
    "                for l in range(0,two_electron_integrals.shape[3]):\n",
    "                    G[i,j]+=P[k,l]*(two_electron_integrals[i,j,k,l]-0.5*two_electron_integrals[i,l,k,j])\n",
    "\n",
    "    F = np.zeros((overlap_integrals.shape[0], overlap_integrals.shape[0]))\n",
    "    F = H_core + G\n",
    "#    print(F)\n",
    "    \n",
    "    if counter >= 1:\n",
    "        energy = 0\n",
    "        for i in range(0,overlap_integrals.shape[0]):\n",
    "            for j in range(0,overlap_integrals.shape[0]):\n",
    "                energy += 0.5*(P[i,j]*(H_core[i,j]+F[i,j]))\n",
    "        energy_difference = abs(energy-energy_last_iter)\n",
    "        print('iteration {:<9}'.format(counter),\"energy = {:<25}\".format(energy), \"difference = {:<23}\".format(energy_difference))\n",
    "        energy_last_iter = energy\n",
    "    if energy_difference < 10**-8:\n",
    "        print(\"energy converged\")\n",
    "        break\n",
    "    counter+=1    \n",
    "\n",
    "    F_prime = np.matmul(np.matrix.transpose(X),np.matmul(F,X))\n",
    "    F_diag_procedure = np.linalg.eigh(F_prime)\n",
    "    \n",
    "    C_prime = np.matmul(X,F_diag_procedure[1])\n",
    "    \n",
    "    P_new = np.zeros((overlap_integrals.shape[0], overlap_integrals.shape[0]))\n",
    "    \n",
    "    for i in range(0,overlap_integrals.shape[0]):\n",
    "        for j in range(0,overlap_integrals.shape[1]):    \n",
    "            for a in range(0,mol.nelectron//2):\n",
    "                P_new[i,j]+=2*C_prime[i,a]*C_prime[j,a]\n",
    "\n",
    "    P = P_new"
   ]
  },
  {
   "cell_type": "code",
   "execution_count": null,
   "metadata": {},
   "outputs": [],
   "source": []
  },
  {
   "cell_type": "code",
   "execution_count": null,
   "metadata": {},
   "outputs": [],
   "source": []
  },
  {
   "cell_type": "code",
   "execution_count": null,
   "metadata": {},
   "outputs": [],
   "source": []
  },
  {
   "cell_type": "code",
   "execution_count": null,
   "metadata": {},
   "outputs": [],
   "source": []
  },
  {
   "cell_type": "code",
   "execution_count": null,
   "metadata": {},
   "outputs": [],
   "source": [
    "#HeH+\n",
    "\n",
    "STO-3G\n",
    "iteration 7         energy = -3.9112755000406874       difference = 3.5873601866853733e-09 \n",
    "STO-6G\n",
    "iteration 7         energy = -3.944682131426069        difference = 4.717611190585558e-09  \n",
    "\n",
    "6-31G\n",
    "iteration 7         energy = -3.9531413124082446       difference = 2.4788495700533986e-09\n",
    "G-31G**\n",
    "iteration 7         energy = -3.966274032010168        difference = 3.9444496557905495e-09 \n",
    "\n",
    "\n",
    "def2-SVP\n",
    "iteration 7         energy = -3.967055803161621        difference = 4.2459431526253866e-09 \n",
    "def2-TZVP\n",
    "iteration 7         energy = -3.9726576432308645       difference = 3.6573504225145825e-09 \n",
    "def2-QZVP\n",
    "iteration 7         energy = -3.975303918837294        difference = 3.859934150085564e-09  \n",
    "\n",
    "\n",
    "pcseg-1\n",
    "iteration 7         energy = -3.9625337677038153       difference = 3.4461096198867835e-09 \n",
    "pcseg-2\n",
    "iteration 7         energy = -3.9745154194844305       difference = 4.017403743006298e-09  \n",
    "\n",
    "cc-pVDZ\n",
    "iteration 7         energy = -3.9670705482078885       difference = 4.235916506445392e-09  \n",
    "\n",
    "\n",
    "\n"
   ]
  },
  {
   "cell_type": "code",
   "execution_count": null,
   "metadata": {},
   "outputs": [],
   "source": [
    "#CO\n",
    "STO-3G\n",
    "iteration 40        energy = -133.7427378748965        difference = 6.021394938215963e-09  \n",
    "STO-6G\n",
    "iteration 40        energy = -134.82148004689435       difference = 7.270188007169054e-09  \n",
    "\n"
   ]
  },
  {
   "cell_type": "code",
   "execution_count": null,
   "metadata": {},
   "outputs": [],
   "source": [
    "#H2O\n",
    "\n",
    "STO-3G\n",
    "iteration 11        energy = -84.15236851200356        difference = 3.7044145528852823e-09 \n"
   ]
  }
 ],
 "metadata": {
  "kernelspec": {
   "display_name": "Python 3",
   "language": "python",
   "name": "python3"
  },
  "language_info": {
   "codemirror_mode": {
    "name": "ipython",
    "version": 3
   },
   "file_extension": ".py",
   "mimetype": "text/x-python",
   "name": "python",
   "nbconvert_exporter": "python",
   "pygments_lexer": "ipython3",
   "version": "3.7.1"
  }
 },
 "nbformat": 4,
 "nbformat_minor": 2
}
