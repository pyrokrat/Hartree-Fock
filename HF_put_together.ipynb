{
 "cells": [
  {
   "cell_type": "code",
   "execution_count": 1,
   "metadata": {},
   "outputs": [],
   "source": [
    "import numpy as np\n",
    "from pyscf import gto, scf, df"
   ]
  },
  {
   "cell_type": "code",
   "execution_count": 120,
   "metadata": {},
   "outputs": [],
   "source": [
    "#mol = gto.M(atom='He 0 0 0; H 0 0 1', basis='6-311G', charge = 1)\n",
    "#mol = gto.M(atom='He 0 0 0; H 0 0 1', basis='pc-3', charge = 1)\n",
    "#mol = gto.M(atom='C 0 0 0; O 0 0 1.128', basis='STO-3G', charge = 0)\n",
    "#mol = gto.M(atom='H 0 0 0; H 0 0 0.740848149', basis='STO-3G', charge = 0)\n",
    "mol = gto.M(atom=\"O 0.00000 0.00000 0.11779; H 0.00000 0.75545 -0.47116; H 0.00000 -0.75545 -0.47116\", basis = \"sto-3g\")"
   ]
  },
  {
   "cell_type": "code",
   "execution_count": 121,
   "metadata": {},
   "outputs": [
    {
     "name": "stdout",
     "output_type": "stream",
     "text": [
      "i 0 -- j 1\n",
      "nuc_energy 4.419491196738508\n",
      "i 0 -- j 2\n",
      "nuc_energy 4.419491196738508\n",
      "i 1 -- j 2\n",
      "nuc_energy 0.3502397318948971\n",
      "tot_nuc_energy 9.189222125371913\n"
     ]
    }
   ],
   "source": [
    "#calculate nuclear repulsion energy\n",
    "tot_nuc_energy=0\n",
    "for i in range(0,len(mol.atom_coords())-1):\n",
    "    for j in range(0,len(mol.atom_coords())):\n",
    "        if j > i:\n",
    "            print(\"i\",i,\"-- j\",j)\n",
    "            x=mol.atom_coord(i)-mol.atom_coord(j)\n",
    "           # print(\"x\",x)\n",
    "            norm=np.linalg.norm(x)\n",
    "           # print(\"norm\",norm)\n",
    "            nuc_energy=mol.atom_charge(i)*mol.atom_charge(j)/norm\n",
    "            print(\"nuc_energy\",nuc_energy)     \n",
    "            tot_nuc_energy+=nuc_energy\n",
    "print(\"tot_nuc_energy\",tot_nuc_energy)"
   ]
  },
  {
   "cell_type": "code",
   "execution_count": 122,
   "metadata": {},
   "outputs": [],
   "source": [
    "#get integrals and calculate core Hamiltonian\n",
    "\n",
    "overlap_integrals = mol.intor('int1e_ovlp_sph')\n",
    "#print(\"overlap_integrals\")\n",
    "#print(overlap_integrals)\n",
    "kinetic_energy_integrals = mol.intor('int1e_kin_sph')\n",
    "#print(\"kinetic_energy_integrals\")\n",
    "#print(kinetic_energy_integrals)\n",
    "nuclear_attraction_integrals = mol.intor('int1e_nuc_sph')\n",
    "#print(\"nuclear_attraction_integrals\")\n",
    "#print(nuclear_attraction_integrals)\n",
    "two_electron_integrals = mol.intor('int2e_sph')\n",
    "#print(\"two_electron_integrals\")\n",
    "#print(two_electron_integrals)\n",
    "H_core = kinetic_energy_integrals + nuclear_attraction_integrals"
   ]
  },
  {
   "cell_type": "code",
   "execution_count": 123,
   "metadata": {},
   "outputs": [],
   "source": [
    "#diagonalize overlap matrix\n",
    "overlap_diag_procedure = np.linalg.eigh(overlap_integrals)\n",
    "#get U and S^-0.5\n",
    "U = overlap_diag_procedure[1]\n",
    "s_inverse_sqrt = np.diag(1/overlap_diag_procedure[0])**0.5\n",
    "#get transformation matrix X\n",
    "X = np.matmul(U,np.matmul(s_inverse_sqrt,np.matrix.transpose(U)))"
   ]
  },
  {
   "cell_type": "code",
   "execution_count": 124,
   "metadata": {},
   "outputs": [],
   "source": [
    "#set guess for P matrix, default core hamiltonian\n",
    "P = np.zeros((overlap_integrals.shape[0], overlap_integrals.shape[0]))"
   ]
  },
  {
   "cell_type": "code",
   "execution_count": 125,
   "metadata": {},
   "outputs": [
    {
     "name": "stdout",
     "output_type": "stream",
     "text": [
      "iteration 1         energy = -82.42145564194183        difference = 10082.421455641941     \n",
      "iteration 2         energy = -84.13474060599256        difference = 1.7132849640507288     \n",
      "iteration 3         energy = -84.15150299234627        difference = 0.016762386353704528   \n",
      "iteration 4         energy = -84.15225184674064        difference = 0.0007488543943736659  \n",
      "iteration 5         energy = -84.15234830500484        difference = 9.64582641955758e-05   \n",
      "iteration 6         energy = -84.15236481052716        difference = 1.650552232490554e-05  \n",
      "iteration 7         energy = -84.15236782267155        difference = 3.0121443899133737e-06 \n",
      "iteration 8         energy = -84.1523683835041         difference = 5.608325466255337e-07  \n",
      "iteration 9         energy = -84.15236848857609        difference = 1.0507199021958513e-07 \n",
      "iteration 10        energy = -84.15236850829915        difference = 1.9723060518117563e-08 \n",
      "iteration 11        energy = -84.15236851200356        difference = 3.7044145528852823e-09 \n",
      "energy converged\n",
      "final SCF energy including nuclear repulsion: -74.96314638663165\n"
     ]
    }
   ],
   "source": [
    "#start iterations\n",
    "counter = 0\n",
    "maxiter = 100\n",
    "energy_difference=10000\n",
    "energy_last_iter=10000\n",
    "energy=0\n",
    "\n",
    "for counter in range(0,maxiter):\n",
    "    G = np.zeros((overlap_integrals.shape[0], overlap_integrals.shape[0]))\n",
    "\n",
    "    for i in range(0,two_electron_integrals.shape[0]):\n",
    "        for j in range(0,two_electron_integrals.shape[1]):\n",
    "            for k in range(0,two_electron_integrals.shape[2]):\n",
    "                for l in range(0,two_electron_integrals.shape[3]):\n",
    "                    G[i,j]+=P[k,l]*(two_electron_integrals[i,j,k,l]-0.5*two_electron_integrals[i,l,k,j])\n",
    "\n",
    "    F = np.zeros((overlap_integrals.shape[0], overlap_integrals.shape[0]))\n",
    "    F = H_core + G\n",
    "#    print(F)\n",
    "    \n",
    "    if counter >= 1:\n",
    "        energy = 0\n",
    "        for i in range(0,overlap_integrals.shape[0]):\n",
    "            for j in range(0,overlap_integrals.shape[0]):\n",
    "                energy += 0.5*(P[i,j]*(H_core[i,j]+F[i,j]))\n",
    "        energy_difference = abs(energy-energy_last_iter)\n",
    "        print('iteration {:<9}'.format(counter),\"energy = {:<25}\".format(energy), \"difference = {:<23}\".format(energy_difference))\n",
    "        energy_last_iter = energy\n",
    "    if energy_difference < 10**-8:\n",
    "        print(\"energy converged\")\n",
    "        SCF_final_energy = energy + tot_nuc_energy\n",
    "        print(\"final SCF energy including nuclear repulsion:\",SCF_final_energy)\n",
    "        break\n",
    "    counter+=1    \n",
    "\n",
    "    F_prime = np.matmul(np.matrix.transpose(X),np.matmul(F,X))\n",
    "    F_diag_procedure = np.linalg.eigh(F_prime)\n",
    "    \n",
    "    C_prime = np.matmul(X,F_diag_procedure[1])\n",
    "    \n",
    "    P_new = np.zeros((overlap_integrals.shape[0], overlap_integrals.shape[0]))\n",
    "    \n",
    "    for i in range(0,overlap_integrals.shape[0]):\n",
    "        for j in range(0,overlap_integrals.shape[1]):    \n",
    "            for a in range(0,mol.nelectron//2):\n",
    "                P_new[i,j]+=2*C_prime[i,a]*C_prime[j,a]\n",
    "\n",
    "    P = P_new"
   ]
  },
  {
   "cell_type": "code",
   "execution_count": null,
   "metadata": {},
   "outputs": [],
   "source": []
  },
  {
   "cell_type": "code",
   "execution_count": null,
   "metadata": {},
   "outputs": [],
   "source": []
  },
  {
   "cell_type": "code",
   "execution_count": null,
   "metadata": {},
   "outputs": [],
   "source": []
  },
  {
   "cell_type": "code",
   "execution_count": null,
   "metadata": {},
   "outputs": [],
   "source": []
  },
  {
   "cell_type": "code",
   "execution_count": null,
   "metadata": {},
   "outputs": [],
   "source": [
    "#HeH+\n",
    "\n",
    "STO-3G\n",
    "iteration 7         energy = -3.9112755000406874       difference = 3.5873601866853733e-09 \n",
    "STO-6G\n",
    "iteration 7         energy = -3.944682131426069        difference = 4.717611190585558e-09  \n",
    "\n",
    "6-31G\n",
    "iteration 7         energy = -3.9531413124082446       difference = 2.4788495700533986e-09\n",
    "G-31G**\n",
    "iteration 7         energy = -3.966274032010168        difference = 3.9444496557905495e-09 \n",
    "6-311G\n",
    "iteration 7         energy = -3.960132124797542        difference = 1.9460095757040108e-09 \n",
    "6-311G**\n",
    "iteration 7         energy = -3.9726835051315375       difference = 3.6593732488654496e-09 \n",
    "\n",
    "\n",
    "\n",
    "def2-SVP\n",
    "iteration 7         energy = -3.967055803161621        difference = 4.2459431526253866e-09 \n",
    "def2-TZVP\n",
    "iteration 7         energy = -3.9726576432308645       difference = 3.6573504225145825e-09 \n",
    "def2-QZVP\n",
    "iteration 7         energy = -3.975303918837294        difference = 3.859934150085564e-09  \n",
    "\n",
    "\n",
    "pcseg-1\n",
    "iteration 7         energy = -3.9625337677038153       difference = 3.4461096198867835e-09 \n",
    "pcseg-2\n",
    "iteration 7         energy = -3.9745154194844305       difference = 4.017403743006298e-09  \n",
    "pcseg-3\n",
    "iteration 7         energy = -3.975333716944547        difference = 3.8931657897478544e-09 \n",
    "\n",
    "\n",
    "pc-1\n",
    "iteration 7         energy = -3.9625323446093272       difference = 3.4460296838290105e-09 \n",
    "pc-2\n",
    "iteration 7         energy = -3.974515581851391        difference = 4.017171928438756e-09  \n",
    "pc-3\n",
    "iteration 7         energy = -3.9753471915476237       difference = 3.847582696892005e-09  \n",
    "\n",
    "\n",
    "\n",
    "cc-pVDZ\n",
    "iteration 7         energy = -3.9670705482078885       difference = 4.235916506445392e-09  \n",
    "cc-pVTZ\n",
    "iteration 7         energy = -3.9746967846281955       difference = 3.992973951483236e-09  \n",
    "\n",
    "\n",
    "\n"
   ]
  },
  {
   "cell_type": "code",
   "execution_count": null,
   "metadata": {},
   "outputs": [],
   "source": [
    "#CO\n",
    "STO-3G\n",
    "iteration 40        energy = -133.7427378748965        difference = 6.021394938215963e-09  \n",
    "STO-6G\n",
    "iteration 40        energy = -134.82148004689435       difference = 7.270188007169054e-09  \n",
    "\n"
   ]
  },
  {
   "cell_type": "code",
   "execution_count": null,
   "metadata": {},
   "outputs": [],
   "source": [
    "#H2O\n",
    "\n",
    "STO-3G\n",
    "iteration 11        energy = -84.15236851200356        difference = 3.7044145528852823e-09 \n"
   ]
  },
  {
   "cell_type": "code",
   "execution_count": 72,
   "metadata": {},
   "outputs": [],
   "source": []
  },
  {
   "cell_type": "code",
   "execution_count": 74,
   "metadata": {},
   "outputs": [
    {
     "name": "stdout",
     "output_type": "stream",
     "text": [
      "[0.        0.        1.4000001]\n",
      "1.4000001015009693\n",
      "0.7142856624995092\n"
     ]
    }
   ],
   "source": [
    "#some coding for nuclear repulstion stuff\n",
    "\n",
    "x=mol.atom_coord(1)-mol.atom_coord(0)\n",
    "print(x)\n",
    "norm=np.linalg.norm(x)\n",
    "print(norm)\n",
    "nuc_energy=mol.atom_charge(0)*mol.atom_charge(1)/norm\n",
    "print(nuc_energy)"
   ]
  },
  {
   "cell_type": "code",
   "execution_count": 105,
   "metadata": {},
   "outputs": [
    {
     "name": "stdout",
     "output_type": "stream",
     "text": [
      "i 0 -- j 1\n",
      "nuc_energy 22.51817918808511\n",
      "tot_nuc_energy 22.51817918808511\n"
     ]
    }
   ],
   "source": [
    "#some coding for nuclear repulstion stuff\n",
    "\n",
    "tot_nuc_energy=0\n",
    "for i in range(0,len(mol.atom_coords())-1):\n",
    "    for j in range(0,len(mol.atom_coords())):\n",
    "        if j > i:\n",
    "            print(\"i\",i,\"-- j\",j)\n",
    "            x=mol.atom_coord(i)-mol.atom_coord(j)\n",
    "           # print(\"x\",x)\n",
    "            norm=np.linalg.norm(x)\n",
    "           # print(\"norm\",norm)\n",
    "            nuc_energy=mol.atom_charge(i)*mol.atom_charge(j)/norm\n",
    "            print(\"nuc_energy\",nuc_energy)     \n",
    "            tot_nuc_energy+=nuc_energy\n",
    "            print(\"tot_nuc_energy\",tot_nuc_energy)\n"
   ]
  },
  {
   "cell_type": "code",
   "execution_count": null,
   "metadata": {},
   "outputs": [],
   "source": []
  }
 ],
 "metadata": {
  "kernelspec": {
   "display_name": "Python 3",
   "language": "python",
   "name": "python3"
  },
  "language_info": {
   "codemirror_mode": {
    "name": "ipython",
    "version": 3
   },
   "file_extension": ".py",
   "mimetype": "text/x-python",
   "name": "python",
   "nbconvert_exporter": "python",
   "pygments_lexer": "ipython3",
   "version": "3.7.1"
  }
 },
 "nbformat": 4,
 "nbformat_minor": 2
}
