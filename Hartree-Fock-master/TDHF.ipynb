{
 "cells": [
  {
   "cell_type": "code",
   "execution_count": 1,
   "metadata": {},
   "outputs": [],
   "source": [
    "import numpy as np\n",
    "from pyscf import gto, scf, df, ao2mo"
   ]
  },
  {
   "cell_type": "code",
   "execution_count": 70,
   "metadata": {},
   "outputs": [],
   "source": [
    "#mol = gto.M(atom='He 0 0 0; H 0 0 1', basis='STO-3G', charge = 1)\n",
    "#mol = gto.M(atom='He 0 0 0; H 0 0 1', basis='pc-3', charge = 1)\n",
    "#mol = gto.M(atom='Be 0 0 0', basis='6-31G', charge = 0)\n",
    "mol = gto.M(atom='H 0 0 0; H 0 0 0.740848149', basis='STO-3G', charge = 0)\n",
    "#mol = gto.M(atom=\"O 0.00000 0.00000 0.11779; H 0.00000 0.75545 -0.47116; H 0.00000 -0.75545 -0.47116\", basis = \"sto-3g\")\n",
    "#mol = gto.M(atom=\"O 0.00000 -0.143225816552  0.00000 ; H 1.638036840407   1.136548822547  -0.000000000000; H -1.638036840407   1.136548822547  -0.000000000000\", basis = \"sto-3g\")\n",
    "#mol = gto.M(atom=\"O 0.00000 -0.075791807925  0.00000 ; H 0.8668114 0.6014355  -0.000000000000; H -0.8668114 0.6014355  -0.000000000000\", basis = \"sto-3g\")"
   ]
  },
  {
   "cell_type": "code",
   "execution_count": 71,
   "metadata": {},
   "outputs": [
    {
     "name": "stdout",
     "output_type": "stream",
     "text": [
      "i 0 -- j 1\n",
      "nuc_energy 0.7142856624995092\n",
      "tot_nuc_energy 0.7142856624995092\n"
     ]
    }
   ],
   "source": [
    "#calculate nuclear repulsion energy\n",
    "tot_nuc_energy=0\n",
    "for i in range(0,len(mol.atom_coords())-1):\n",
    "    for j in range(0,len(mol.atom_coords())):\n",
    "        if j > i:\n",
    "            print(\"i\",i,\"-- j\",j)\n",
    "            x=mol.atom_coord(i)-mol.atom_coord(j)\n",
    "           # print(\"x\",x)\n",
    "            norm=np.linalg.norm(x)\n",
    "           # print(\"norm\",norm)\n",
    "            nuc_energy=mol.atom_charge(i)*mol.atom_charge(j)/norm\n",
    "            print(\"nuc_energy\",nuc_energy)     \n",
    "            tot_nuc_energy+=nuc_energy\n",
    "print(\"tot_nuc_energy\",tot_nuc_energy)"
   ]
  },
  {
   "cell_type": "code",
   "execution_count": 75,
   "metadata": {},
   "outputs": [],
   "source": [
    "#get integrals and calculate core Hamiltonian\n",
    "\n",
    "overlap_integrals = mol.intor('int1e_ovlp_sph')\n",
    "#print(\"overlap_integrals\")\n",
    "#print(overlap_integrals)\n",
    "kinetic_energy_integrals = mol.intor('int1e_kin_sph')\n",
    "#print(\"kinetic_energy_integrals\")\n",
    "#print(kinetic_energy_integrals)\n",
    "nuclear_attraction_integrals = mol.intor('int1e_nuc_sph')\n",
    "#print(\"nuclear_attraction_integrals\")\n",
    "#print(nuclear_attraction_integrals)\n",
    "two_electron_integrals = mol.intor('int2e_sph')\n",
    "#print(\"two_electron_integrals\")\n",
    "#print(two_electron_integrals)\n",
    "H_core = kinetic_energy_integrals + nuclear_attraction_integrals\n"
   ]
  },
  {
   "cell_type": "code",
   "execution_count": 76,
   "metadata": {},
   "outputs": [],
   "source": [
    "#get integrals and calculate core Hamiltonian\n",
    "\n",
    "#overlap_integrals = mol.intor('int1e_ovlp_spinor')\n",
    "#print(\"overlap_integrals\")\n",
    "#print(overlap_integrals)\n",
    "#kinetic_energy_integrals = mol.intor('int1e_kin_spinor')\n",
    "#print(\"kinetic_energy_integrals\")\n",
    "#print(kinetic_energy_integrals)\n",
    "#nuclear_attraction_integrals = mol.intor('int1e_nuc_spinor')\n",
    "#print(\"nuclear_attraction_integrals\")\n",
    "#print(nuclear_attraction_integrals)\n",
    "#two_electron_integrals = mol.intor('int2e_spinor')\n",
    "#print(\"two_electron_integrals\")\n",
    "#print(two_electron_integrals)\n",
    "#H_core = kinetic_energy_integrals + nuclear_attraction_integrals\n"
   ]
  },
  {
   "cell_type": "code",
   "execution_count": null,
   "metadata": {},
   "outputs": [],
   "source": []
  },
  {
   "cell_type": "code",
   "execution_count": 77,
   "metadata": {},
   "outputs": [],
   "source": [
    "#diagonalize overlap matrix\n",
    "overlap_diag_procedure = np.linalg.eigh(overlap_integrals)\n",
    "#get U and S^-0.5\n",
    "U = overlap_diag_procedure[1]\n",
    "s_inverse_sqrt = np.diag(1/overlap_diag_procedure[0])**0.5\n",
    "#get transformation matrix X\n",
    "X = np.matmul(U,np.matmul(s_inverse_sqrt,np.matrix.transpose(U)))"
   ]
  },
  {
   "cell_type": "code",
   "execution_count": 78,
   "metadata": {},
   "outputs": [],
   "source": [
    "#set guess for P matrix, default core hamiltonian\n",
    "P = np.zeros((overlap_integrals.shape[0], overlap_integrals.shape[0]))"
   ]
  },
  {
   "cell_type": "code",
   "execution_count": 79,
   "metadata": {},
   "outputs": [
    {
     "name": "stdout",
     "output_type": "stream",
     "text": [
      "iteration 1         energy = -1.830999984673943        difference = 10001.830999984673     \n",
      "iteration 2         energy = -1.8309999846739433       difference = 2.220446049250313e-16  \n",
      "energy converged\n",
      "final SCF energy including nuclear repulsion: -1.1167143221744342\n"
     ]
    }
   ],
   "source": [
    "#start iterations\n",
    "counter = 0\n",
    "maxiter = 100\n",
    "energy_difference=10000\n",
    "energy_last_iter=10000\n",
    "energy=0\n",
    "\n",
    "for counter in range(0,maxiter):\n",
    "    G = np.zeros((overlap_integrals.shape[0], overlap_integrals.shape[0]))\n",
    "\n",
    "    for i in range(0,two_electron_integrals.shape[0]):\n",
    "        for j in range(0,two_electron_integrals.shape[1]):\n",
    "            for k in range(0,two_electron_integrals.shape[2]):\n",
    "                for l in range(0,two_electron_integrals.shape[3]):\n",
    "                    G[i,j]+=P[k,l]*(two_electron_integrals[i,j,k,l]-0.5*two_electron_integrals[i,l,k,j])\n",
    "\n",
    "    F = np.zeros((overlap_integrals.shape[0], overlap_integrals.shape[0]))\n",
    "    F = H_core + G\n",
    "#    print(F)\n",
    "    \n",
    "    if counter >= 1:\n",
    "        energy = 0\n",
    "        for i in range(0,overlap_integrals.shape[0]):\n",
    "            for j in range(0,overlap_integrals.shape[0]):\n",
    "                energy += 0.5*(P[i,j]*(H_core[i,j]+F[i,j]))\n",
    "        energy_difference = abs(energy-energy_last_iter)\n",
    "        print('iteration {:<9}'.format(counter),\"energy = {:<25}\".format(energy), \"difference = {:<23}\".format(energy_difference))\n",
    "        energy_last_iter = energy\n",
    "    if energy_difference < 10**-8:\n",
    "        print(\"energy converged\")\n",
    "        SCF_final_energy = energy + tot_nuc_energy\n",
    "        print(\"final SCF energy including nuclear repulsion:\",SCF_final_energy)\n",
    "        break\n",
    "    counter+=1    \n",
    "\n",
    "    F_prime = np.matmul(np.matrix.transpose(X),np.matmul(F,X))\n",
    "    F_diag_procedure = np.linalg.eigh(F_prime)\n",
    "    \n",
    "    C = np.matmul(X,F_diag_procedure[1])\n",
    "    \n",
    "    P_new = np.zeros((overlap_integrals.shape[0], overlap_integrals.shape[0]))\n",
    "    \n",
    "    for i in range(0,overlap_integrals.shape[0]):\n",
    "        for j in range(0,overlap_integrals.shape[1]):    \n",
    "            for a in range(0,mol.nelectron//2):\n",
    "                P_new[i,j]+=2*C[i,a]*C[j,a]\n",
    "\n",
    "    P = P_new"
   ]
  },
  {
   "cell_type": "code",
   "execution_count": 80,
   "metadata": {},
   "outputs": [
    {
     "data": {
      "text/plain": [
       "(array([-0.57820296,  0.67026771]), array([[-0.70710678, -0.70710678],\n",
       "        [-0.70710678,  0.70710678]]))"
      ]
     },
     "execution_count": 80,
     "metadata": {},
     "output_type": "execute_result"
    }
   ],
   "source": [
    "F_diag_procedure = np.linalg.eigh(F_prime)\n",
    "F_diag_procedure"
   ]
  },
  {
   "cell_type": "code",
   "execution_count": 81,
   "metadata": {},
   "outputs": [],
   "source": [
    "#for i in range(0,2):\n",
    "#    print(C[i,0])"
   ]
  },
  {
   "cell_type": "code",
   "execution_count": 82,
   "metadata": {},
   "outputs": [],
   "source": [
    "#np.set_printoptions(precision=3)\n",
    "#np.dot(C.T,np.dot(F,C))"
   ]
  },
  {
   "cell_type": "code",
   "execution_count": 83,
   "metadata": {},
   "outputs": [],
   "source": [
    "#F"
   ]
  },
  {
   "cell_type": "code",
   "execution_count": null,
   "metadata": {},
   "outputs": [],
   "source": [
    "\n"
   ]
  },
  {
   "cell_type": "code",
   "execution_count": 84,
   "metadata": {},
   "outputs": [],
   "source": [
    "def integraltransformation(I, C):\n",
    "    # N^5 scaling\n",
    "    K = np.einsum('pi,ijkl->pjkl', C, I)\n",
    "    K = np.einsum('qj,pjkl->pqkl', C, K)\n",
    "    K = np.einsum('rk,pqkl->pqrl', C, K)\n",
    "    K = np.einsum('sl,pqrl->pqrs', C, K)\n",
    "    return K"
   ]
  },
  {
   "cell_type": "code",
   "execution_count": 85,
   "metadata": {},
   "outputs": [
    {
     "data": {
      "text/plain": [
       "array([[[[ 4.85790562, -2.28706836],\n",
       "         [-2.28706836,  1.71725587]],\n",
       "\n",
       "        [[-2.28706836,  1.23494981],\n",
       "         [ 1.23494981, -0.90923939]]],\n",
       "\n",
       "\n",
       "       [[[-2.28706836,  1.23494981],\n",
       "         [ 1.23494981, -0.90923939]],\n",
       "\n",
       "        [[ 1.71725587, -0.90923939],\n",
       "         [-0.90923939,  0.6783485 ]]]])"
      ]
     },
     "execution_count": 85,
     "metadata": {},
     "output_type": "execute_result"
    }
   ],
   "source": [
    "C_ao_mo = np.zeros((F_diag_procedure[1].shape[0],F_diag_procedure[1].shape[1]))\n",
    "C_ao_mo[:,:]=C[:,:]\n",
    "\n",
    "#for i in range(0,C_ao_mo.shape[0]):\n",
    "#    for p in range(0,C_ao_mo.shape[1]):\n",
    "#        C_ao_mo[i,p]=C[i,p]\n",
    "        \n",
    "mo_integrals = integraltransformation(two_electron_integrals,C_ao_mo)\n",
    "mo_integrals"
   ]
  },
  {
   "cell_type": "code",
   "execution_count": 86,
   "metadata": {},
   "outputs": [],
   "source": [
    "#mo_integrals_spin = np.zeros((len(mo_integrals)*2,len(mo_integrals)*2,len(mo_integrals)*2,len(mo_integrals))*2)\n",
    "#for p in range(0,len(mo_integrals_spin)):\n",
    "#    for r in range(0,len(mo_integrals_spin)):\n",
    "#        print(\"pr:\", p,r)\n",
    "#        if (p%2==r%2):\n",
    "#            for q in range(0,len(mo_integrals_spin)):\n",
    "#                for s in range(0,len(mo_integrals_spin)):\n",
    "#                    if (q%2==s%2):\n",
    "#                        print(\"qs:\", q,s)\n",
    "#                        mo_integrals_spin[p,q,r,s]=mo_integrals[p//2,q//2,r//2,s//2]\n",
    "#mo_integrals_spin"
   ]
  },
  {
   "cell_type": "code",
   "execution_count": 87,
   "metadata": {},
   "outputs": [
    {
     "data": {
      "text/plain": [
       "array([[[[ 4.85790562,  0.        , -2.28706836,  0.        ],\n",
       "         [ 0.        ,  0.        ,  0.        ,  0.        ],\n",
       "         [-2.28706836,  0.        ,  1.71725587,  0.        ],\n",
       "         [ 0.        ,  0.        ,  0.        ,  0.        ]],\n",
       "\n",
       "        [[ 0.        ,  4.85790562,  0.        , -2.28706836],\n",
       "         [ 0.        ,  0.        ,  0.        ,  0.        ],\n",
       "         [ 0.        , -2.28706836,  0.        ,  1.71725587],\n",
       "         [ 0.        ,  0.        ,  0.        ,  0.        ]],\n",
       "\n",
       "        [[-2.28706836,  0.        ,  1.23494981,  0.        ],\n",
       "         [ 0.        ,  0.        ,  0.        ,  0.        ],\n",
       "         [ 1.23494981,  0.        , -0.90923939,  0.        ],\n",
       "         [ 0.        ,  0.        ,  0.        ,  0.        ]],\n",
       "\n",
       "        [[ 0.        , -2.28706836,  0.        ,  1.23494981],\n",
       "         [ 0.        ,  0.        ,  0.        ,  0.        ],\n",
       "         [ 0.        ,  1.23494981,  0.        , -0.90923939],\n",
       "         [ 0.        ,  0.        ,  0.        ,  0.        ]]],\n",
       "\n",
       "\n",
       "       [[[ 0.        ,  0.        ,  0.        ,  0.        ],\n",
       "         [ 4.85790562,  0.        , -2.28706836,  0.        ],\n",
       "         [ 0.        ,  0.        ,  0.        ,  0.        ],\n",
       "         [-2.28706836,  0.        ,  1.71725587,  0.        ]],\n",
       "\n",
       "        [[ 0.        ,  0.        ,  0.        ,  0.        ],\n",
       "         [ 0.        ,  4.85790562,  0.        , -2.28706836],\n",
       "         [ 0.        ,  0.        ,  0.        ,  0.        ],\n",
       "         [ 0.        , -2.28706836,  0.        ,  1.71725587]],\n",
       "\n",
       "        [[ 0.        ,  0.        ,  0.        ,  0.        ],\n",
       "         [-2.28706836,  0.        ,  1.23494981,  0.        ],\n",
       "         [ 0.        ,  0.        ,  0.        ,  0.        ],\n",
       "         [ 1.23494981,  0.        , -0.90923939,  0.        ]],\n",
       "\n",
       "        [[ 0.        ,  0.        ,  0.        ,  0.        ],\n",
       "         [ 0.        , -2.28706836,  0.        ,  1.23494981],\n",
       "         [ 0.        ,  0.        ,  0.        ,  0.        ],\n",
       "         [ 0.        ,  1.23494981,  0.        , -0.90923939]]],\n",
       "\n",
       "\n",
       "       [[[-2.28706836,  0.        ,  1.23494981,  0.        ],\n",
       "         [ 0.        ,  0.        ,  0.        ,  0.        ],\n",
       "         [ 1.23494981,  0.        , -0.90923939,  0.        ],\n",
       "         [ 0.        ,  0.        ,  0.        ,  0.        ]],\n",
       "\n",
       "        [[ 0.        , -2.28706836,  0.        ,  1.23494981],\n",
       "         [ 0.        ,  0.        ,  0.        ,  0.        ],\n",
       "         [ 0.        ,  1.23494981,  0.        , -0.90923939],\n",
       "         [ 0.        ,  0.        ,  0.        ,  0.        ]],\n",
       "\n",
       "        [[ 1.71725587,  0.        , -0.90923939,  0.        ],\n",
       "         [ 0.        ,  0.        ,  0.        ,  0.        ],\n",
       "         [-0.90923939,  0.        ,  0.6783485 ,  0.        ],\n",
       "         [ 0.        ,  0.        ,  0.        ,  0.        ]],\n",
       "\n",
       "        [[ 0.        ,  1.71725587,  0.        , -0.90923939],\n",
       "         [ 0.        ,  0.        ,  0.        ,  0.        ],\n",
       "         [ 0.        , -0.90923939,  0.        ,  0.6783485 ],\n",
       "         [ 0.        ,  0.        ,  0.        ,  0.        ]]],\n",
       "\n",
       "\n",
       "       [[[ 0.        ,  0.        ,  0.        ,  0.        ],\n",
       "         [-2.28706836,  0.        ,  1.23494981,  0.        ],\n",
       "         [ 0.        ,  0.        ,  0.        ,  0.        ],\n",
       "         [ 1.23494981,  0.        , -0.90923939,  0.        ]],\n",
       "\n",
       "        [[ 0.        ,  0.        ,  0.        ,  0.        ],\n",
       "         [ 0.        , -2.28706836,  0.        ,  1.23494981],\n",
       "         [ 0.        ,  0.        ,  0.        ,  0.        ],\n",
       "         [ 0.        ,  1.23494981,  0.        , -0.90923939]],\n",
       "\n",
       "        [[ 0.        ,  0.        ,  0.        ,  0.        ],\n",
       "         [ 1.71725587,  0.        , -0.90923939,  0.        ],\n",
       "         [ 0.        ,  0.        ,  0.        ,  0.        ],\n",
       "         [-0.90923939,  0.        ,  0.6783485 ,  0.        ]],\n",
       "\n",
       "        [[ 0.        ,  0.        ,  0.        ,  0.        ],\n",
       "         [ 0.        ,  1.71725587,  0.        , -0.90923939],\n",
       "         [ 0.        ,  0.        ,  0.        ,  0.        ],\n",
       "         [ 0.        , -0.90923939,  0.        ,  0.6783485 ]]]])"
      ]
     },
     "execution_count": 87,
     "metadata": {},
     "output_type": "execute_result"
    }
   ],
   "source": [
    "mo_integrals_spin = np.zeros((len(mo_integrals)*2,len(mo_integrals)*2,len(mo_integrals)*2,len(mo_integrals)*2))\n",
    "for p in range(1,len(mo_integrals_spin)+1):\n",
    "    for r in range(1,len(mo_integrals_spin)+1):\n",
    "        if (p%2==r%2):\n",
    "            #print(\"pr:\", p,r)\n",
    "            for q in range(1,len(mo_integrals_spin)+1):\n",
    "                for s in range(1,len(mo_integrals_spin)+1):\n",
    "                    if (q%2==s%2):\n",
    "                        #print(\"qs:\", q,s)\n",
    "                        mo_integrals_spin[p-1,q-1,r-1,s-1]=mo_integrals[(p+1)//2-1,(q+1)//2-1,(r+1)//2-1,(s+1)//2-1]\n",
    "mo_integrals_spin"
   ]
  },
  {
   "cell_type": "code",
   "execution_count": 88,
   "metadata": {
    "scrolled": false
   },
   "outputs": [
    {
     "name": "stdout",
     "output_type": "stream",
     "text": [
      "[[ 0.          0.          0.          1.71725587]\n",
      " [ 0.          0.         -1.71725587  0.        ]\n",
      " [ 0.         -1.71725587  0.          0.        ]\n",
      " [ 1.71725587  0.          0.          0.        ]]\n"
     ]
    }
   ],
   "source": [
    "B = np.zeros((mol.nelectron*(overlap_integrals.shape[0]*2-mol.nelectron),mol.nelectron*(overlap_integrals.shape[0]*2-mol.nelectron)))\n",
    "\n",
    "#mf = scf.RHF(mol).run()\n",
    "#mo_ints = ao2mo.kernel(mol, mf.mo_coeff)\n",
    "#mo_ints = ao2mo.restore(1, mo_ints, mol.nao_nr())\n",
    "#mo_integrals = mo_ints\n",
    "\n",
    "arindex = -1\n",
    "for a in range(0,mol.nelectron):\n",
    "    for r in range(mol.nelectron,overlap_integrals.shape[0]*2):\n",
    "        arindex += 1\n",
    "        bsindex = -1\n",
    "        for b in range(0,mol.nelectron):\n",
    "            for s in range(mol.nelectron,overlap_integrals.shape[0]*2):\n",
    "                bsindex += 1\n",
    "                B[arindex,bsindex]+=mo_integrals_spin[r,s,a,b]-mo_integrals_spin[r,s,b,a]\n",
    "                #print(arindex,bsindex)\n",
    "               # lol[a,b] = 1\n",
    "               # lol[r,s] = 2\n",
    "                #print(r,s,a,b,mo_integrals[r,s,a,b]-mo_integrals[r,s,b,a],mo_integrals[r,s,a,b],mo_integrals[r,s,b,a])\n",
    "#assert np.allclose(B, np.zeros(B.shape))\n",
    "print(B)"
   ]
  },
  {
   "cell_type": "code",
   "execution_count": 94,
   "metadata": {},
   "outputs": [],
   "source": [
    "#print(len(mo_integrals_spin[0])\n",
    "#,len(mo_integrals_spin[1])\n",
    "#,len(mo_integrals_spin[2])\n",
    "#,len(mo_integrals_spin[3]))"
   ]
  },
  {
   "cell_type": "code",
   "execution_count": 99,
   "metadata": {},
   "outputs": [
    {
     "name": "stdout",
     "output_type": "stream",
     "text": [
      "[-0.57820296 -0.57820296  0.67026771  0.67026771]\n",
      "[[1.24847067 0.67026771 0.57820296 1.23494981]\n",
      " [0.67026771 0.01352086 0.         0.57820296]\n",
      " [0.57820296 0.         0.01352086 0.67026771]\n",
      " [1.23494981 0.57820296 0.67026771 1.24847067]]\n"
     ]
    }
   ],
   "source": [
    "eigenenergies=np.zeros((len(F_diag_procedure[0])*2))\n",
    "for i in range(0,len(eigenenergies)):\n",
    "    eigenenergies[i]+=F_diag_procedure[0][i//2]\n",
    "print(eigenenergies)\n",
    "\n",
    "A = np.zeros((mol.nelectron*(overlap_integrals.shape[0]*2-mol.nelectron),mol.nelectron*(overlap_integrals.shape[0]*2-mol.nelectron)))\n",
    "\n",
    "arindex = -1\n",
    "for a in range(0,mol.nelectron):\n",
    "    for r in range(mol.nelectron,overlap_integrals.shape[0]*2):\n",
    "        arindex += 1\n",
    "        bsindex = -1\n",
    "        for b in range(0,mol.nelectron):\n",
    "            for s in range(mol.nelectron,overlap_integrals.shape[0]*2):\n",
    "                bsindex += 1\n",
    "                A[arindex,bsindex]+=mo_integrals_spin[r,b,a,s]-mo_integrals_spin[r,b,s,a]\n",
    "                if a==b:\n",
    "                    A[arindex,bsindex] += eigenenergies[r]\n",
    "                if r==s:\n",
    "                    A[arindex,bsindex] += -eigenenergies[a]\n",
    "                    \n",
    "print(A)"
   ]
  },
  {
   "cell_type": "code",
   "execution_count": null,
   "metadata": {},
   "outputs": [],
   "source": []
  },
  {
   "cell_type": "code",
   "execution_count": 100,
   "metadata": {},
   "outputs": [],
   "source": [
    "mat = np.matmul((A+B),(A-B)) "
   ]
  },
  {
   "cell_type": "code",
   "execution_count": 101,
   "metadata": {},
   "outputs": [
    {
     "data": {
      "text/plain": [
       "array([[ 0.91838977,  3.54576864,  3.85947654,  3.85869877],\n",
       "       [-0.42592104, -2.16520745,  0.77510154, -0.74460812],\n",
       "       [-0.74460812,  0.77510154, -2.16520745, -0.42592104],\n",
       "       [ 3.85869877,  3.85947654,  3.54576864,  0.91838977]])"
      ]
     },
     "execution_count": 101,
     "metadata": {},
     "output_type": "execute_result"
    }
   ],
   "source": [
    "mat"
   ]
  },
  {
   "cell_type": "code",
   "execution_count": 102,
   "metadata": {},
   "outputs": [
    {
     "name": "stdout",
     "output_type": "stream",
     "text": [
      "hartree [       nan        nan 0.95016196 2.53818779]\n",
      "eV [        nan         nan 25.85542728 69.06815096]\n"
     ]
    },
    {
     "name": "stderr",
     "output_type": "stream",
     "text": [
      "/home/peter/miniconda3/lib/python3.7/site-packages/ipykernel_launcher.py:2: RuntimeWarning: invalid value encountered in sqrt\n",
      "  \n",
      "/home/peter/miniconda3/lib/python3.7/site-packages/ipykernel_launcher.py:3: RuntimeWarning: invalid value encountered in sqrt\n",
      "  This is separate from the ipykernel package so we can avoid doing imports until\n"
     ]
    }
   ],
   "source": [
    "mat_diag_procedure = np.linalg.eigh(mat)\n",
    "print(\"hartree\", mat_diag_procedure[0]**(0.5))\n",
    "print(\"eV\", mat_diag_procedure[0]**(0.5)*27.2116)"
   ]
  },
  {
   "cell_type": "code",
   "execution_count": null,
   "metadata": {},
   "outputs": [],
   "source": []
  },
  {
   "cell_type": "code",
   "execution_count": null,
   "metadata": {},
   "outputs": [],
   "source": []
  },
  {
   "cell_type": "code",
   "execution_count": null,
   "metadata": {},
   "outputs": [],
   "source": []
  },
  {
   "cell_type": "code",
   "execution_count": null,
   "metadata": {},
   "outputs": [],
   "source": []
  },
  {
   "cell_type": "code",
   "execution_count": null,
   "metadata": {},
   "outputs": [],
   "source": []
  },
  {
   "cell_type": "code",
   "execution_count": null,
   "metadata": {},
   "outputs": [],
   "source": []
  },
  {
   "cell_type": "code",
   "execution_count": 65,
   "metadata": {},
   "outputs": [
    {
     "name": "stdout",
     "output_type": "stream",
     "text": [
      "[[[[ 6.52472109e-01 -4.24139890e-16 -1.66519354e-01  2.86229374e-17]\n",
      "   [-5.19549681e-16  4.55558973e-01 -4.76615275e-16  1.43457642e-01]\n",
      "   [-1.66519354e-01 -5.03937170e-16  5.60686956e-01  3.20923843e-16]\n",
      "   [ 3.29597460e-17  1.43457642e-01  3.47812057e-16  6.67302158e-01]]\n",
      "\n",
      "  [[-5.06539255e-16  8.90697529e-02 -2.47198095e-16  8.00945407e-02]\n",
      "   [ 8.90697529e-02 -4.57966998e-16  1.67063870e-02  1.23165367e-16]\n",
      "   [-2.54136989e-16  1.67063870e-02  5.55111512e-17 -9.33134356e-02]\n",
      "   [ 8.00945407e-02  4.77048956e-17 -9.33134356e-02 -9.22872889e-16]]\n",
      "\n",
      "  [[-1.66519354e-01 -2.35922393e-16  1.14220829e-01 -8.56519716e-17]\n",
      "   [-1.34007389e-16 -5.56499435e-02  2.48499138e-16 -7.75908237e-02]\n",
      "   [ 1.14220829e-01  2.77989437e-16 -1.32706307e-01  4.97540377e-16]\n",
      "   [-1.61979805e-16 -7.75908237e-02  4.79434201e-16 -2.03364455e-01]]\n",
      "\n",
      "  [[ 9.80118764e-17  8.00945407e-02 -7.37257477e-17  1.31150506e-01]\n",
      "   [ 8.00945407e-02  1.27393755e-16 -2.69543050e-02 -1.39645240e-16]\n",
      "   [-9.36750677e-17 -2.69543050e-02  7.99707522e-16 -1.25653913e-01]\n",
      "   [ 1.31150506e-01  8.84708973e-17 -1.25653913e-01 -5.25621213e-16]]]\n",
      "\n",
      "\n",
      " [[[-4.44089210e-16  8.90697529e-02 -1.94289029e-16  8.00945407e-02]\n",
      "   [ 8.90697529e-02 -5.55111512e-16  1.67063870e-02  1.38777878e-16]\n",
      "   [-2.49800181e-16  1.67063870e-02  1.11022302e-16 -9.33134356e-02]\n",
      "   [ 8.00945407e-02  1.66533454e-16 -9.33134356e-02 -7.77156117e-16]]\n",
      "\n",
      "  [[ 4.55558973e-01 -2.49800181e-16 -5.56499435e-02 -1.66533454e-16]\n",
      "   [-8.88178420e-16  4.10154460e-01  1.45716772e-16  5.88654038e-02]\n",
      "   [-5.56499435e-02 -1.38777878e-16  4.09130356e-01 -4.16333634e-16]\n",
      "   [-5.82867088e-16  5.88654038e-02  4.71844785e-16  4.67752914e-01]]\n",
      "\n",
      "  [[-6.10622664e-16  1.67063870e-02  1.80411242e-16 -2.69543050e-02]\n",
      "   [ 1.67063870e-02 -3.60822483e-16  3.53881525e-02  2.70616862e-16]\n",
      "   [ 2.08166817e-16  3.53881525e-02 -4.85722573e-16  7.28706931e-03]\n",
      "   [-2.69543050e-02  2.77555756e-17  7.28706931e-03 -1.46410661e-15]]\n",
      "\n",
      "  [[ 1.43457642e-01  6.93889390e-17 -7.75908237e-02  3.05311332e-16]\n",
      "   [ 6.38378239e-16  5.88654038e-02  5.55111512e-17  7.17354625e-02]\n",
      "   [-7.75908237e-02 -9.02056208e-17  1.08255763e-01  1.80411242e-16]\n",
      "   [ 4.44089210e-16  7.17354625e-02 -3.46944695e-16  1.70513905e-01]]]\n",
      "\n",
      "\n",
      " [[[-1.66519354e-01 -2.48065457e-16  1.14220829e-01 -7.11236625e-17]\n",
      "   [-1.26634814e-16 -5.56499435e-02  2.46330734e-16 -7.75908237e-02]\n",
      "   [ 1.14220829e-01  2.77555756e-16 -1.32706307e-01  5.27355937e-16]\n",
      "   [-1.83880688e-16 -7.75908237e-02  4.68375339e-16 -2.03364455e-01]]\n",
      "\n",
      "  [[-4.99600361e-16  1.67063870e-02  2.04697370e-16 -2.69543050e-02]\n",
      "   [ 1.67063870e-02 -7.63278329e-16  3.53881525e-02  3.17454396e-16]\n",
      "   [ 2.25514052e-16  3.53881525e-02 -3.19189120e-16  7.28706931e-03]\n",
      "   [-2.69543050e-02  3.79904441e-16  7.28706931e-03 -1.45716772e-15]]\n",
      "\n",
      "  [[ 5.60686956e-01  1.66533454e-16 -1.32706307e-01  5.96744876e-16]\n",
      "   [ 1.37043155e-16  4.09130356e-01 -2.87096735e-16  1.08255763e-01]\n",
      "   [-1.32706307e-01 -4.45823933e-16  5.06969135e-01 -4.03323208e-16]\n",
      "   [ 7.61109925e-16  1.08255763e-01 -3.68845579e-16  5.86116417e-01]]\n",
      "\n",
      "  [[ 3.90312782e-16 -9.33134356e-02  4.33680869e-16 -1.25653913e-01]\n",
      "   [-9.33134356e-02  1.22514845e-16  7.28706931e-03 -2.53269627e-16]\n",
      "   [ 4.19803081e-16  7.28706931e-03 -3.33066907e-16  1.41402634e-01]\n",
      "   [-1.25653913e-01 -1.05818132e-16  1.41402634e-01  1.59594560e-15]]]\n",
      "\n",
      "\n",
      " [[[ 1.11022302e-16  8.00945407e-02 -1.11022302e-16  1.31150506e-01]\n",
      "   [ 8.00945407e-02  3.88578059e-16 -2.69543050e-02 -1.94289029e-16]\n",
      "   [-1.11022302e-16 -2.69543050e-02  5.55111512e-16 -1.25653913e-01]\n",
      "   [ 1.31150506e-01 -1.11022302e-16 -1.25653913e-01 -6.66133815e-16]]\n",
      "\n",
      "  [[ 1.43457642e-01  8.32667268e-17 -7.75908237e-02  2.63677968e-16]\n",
      "   [ 6.38378239e-16  5.88654038e-02  6.24500451e-17  7.17354625e-02]\n",
      "   [-7.75908237e-02 -1.04083409e-16  1.08255763e-01  2.22044605e-16]\n",
      "   [ 5.13478149e-16  7.17354625e-02 -3.46944695e-16  1.70513905e-01]]\n",
      "\n",
      "  [[ 4.85722573e-16 -9.33134356e-02  5.13478149e-16 -1.25653913e-01]\n",
      "   [-9.33134356e-02  1.11022302e-16  7.28706931e-03 -2.56739074e-16]\n",
      "   [ 4.57966998e-16  7.28706931e-03 -3.81639165e-16  1.41402634e-01]\n",
      "   [-1.25653913e-01 -1.38777878e-17  1.41402634e-01  1.60461922e-15]]\n",
      "\n",
      "  [[ 6.67302158e-01 -8.25728375e-16 -2.03364455e-01 -1.11022302e-15]\n",
      "   [-1.65145675e-15  4.67752914e-01 -6.59194921e-16  1.70513905e-01]\n",
      "   [-2.03364455e-01 -6.03683770e-16  5.86116417e-01  7.21644966e-16]\n",
      "   [-1.19348975e-15  1.70513905e-01  1.24900090e-15  7.48083920e-01]]]]\n"
     ]
    }
   ],
   "source": [
    "integrals_ijks = np.zeros((overlap_integrals.shape[0],overlap_integrals.shape[0],overlap_integrals.shape[0],overlap_integrals.shape[0]))\n",
    "integrals_ijrs = np.zeros((overlap_integrals.shape[0],overlap_integrals.shape[0],overlap_integrals.shape[0],overlap_integrals.shape[0]))\n",
    "integrals_iqrs = np.zeros((overlap_integrals.shape[0],overlap_integrals.shape[0],overlap_integrals.shape[0],overlap_integrals.shape[0]))\n",
    "integrals_pqrs = np.zeros((overlap_integrals.shape[0],overlap_integrals.shape[0],overlap_integrals.shape[0],overlap_integrals.shape[0]))\n",
    "C_ao_mo = np.zeros((F_diag_procedure[1].shape[0],F_diag_procedure[1].shape[1]))\n",
    "\n",
    "\n",
    "for i in range(0,C_ao_mo.shape[0]):\n",
    "    for p in range(0,C_ao_mo.shape[1]):\n",
    "        C_ao_mo[i,p]=C[i,p]\n",
    "\n",
    "\n",
    "for s in range(0,integrals_ijks.shape[0]):\n",
    "    for i in range(0,two_electron_integrals.shape[0]):\n",
    "        for j in range(0,two_electron_integrals.shape[1]):\n",
    "            for k in range(0,two_electron_integrals.shape[2]):\n",
    "                for l in range(0,two_electron_integrals.shape[3]):\n",
    "                    integrals_ijks[i,j,k,s]+=C_ao_mo[l,s]*two_electron_integrals[i,j,k,l]\n",
    "    \n",
    "for s in range(0,integrals_ijrs.shape[0]):\n",
    "    for r in range(0,integrals_ijrs.shape[1]):\n",
    "        for i in range(0,two_electron_integrals.shape[0]):\n",
    "            for j in range(0,two_electron_integrals.shape[1]):\n",
    "                for k in range(0,two_electron_integrals.shape[2]):\n",
    "                    integrals_ijrs[i,j,r,s]+=C_ao_mo[k,r]*integrals_ijks[i,j,k,s]\n",
    "\n",
    "for s in range(0,integrals_iqrs.shape[0]):\n",
    "    for r in range(0,integrals_iqrs.shape[1]):\n",
    "        for q in range(0,integrals_iqrs.shape[2]):\n",
    "            for i in range(0,two_electron_integrals.shape[0]):\n",
    "                for j in range(0,two_electron_integrals.shape[1]):\n",
    "                    integrals_iqrs[i,q,r,s]+=C_ao_mo[j,q]*integrals_ijrs[i,j,r,s]\n",
    "\n",
    "for s in range(0,integrals_pqrs.shape[0]):\n",
    "    for r in range(0,integrals_pqrs.shape[1]):\n",
    "        for q in range(0,integrals_pqrs.shape[2]):\n",
    "            for p in range(0,integrals_pqrs.shape[3]):\n",
    "                for i in range(0,two_electron_integrals.shape[0]):\n",
    "                    integrals_pqrs[p,q,r,s]+=C_ao_mo[i,p]*integrals_iqrs[i,q,r,s]\n",
    "                    \n",
    "    \n",
    "#for s in range(0,integrals_pqrs.shape[0]):\n",
    " #   for r in range(0,integrals_pqrs.shape[1]):\n",
    "  #      for q in range(0,integrals_pqrs.shape[2]):\n",
    "   #         for p in range(0,integrals_pqrs.shape[3]):             \n",
    "print(integrals_pqrs)\n",
    "\n"
   ]
  },
  {
   "cell_type": "code",
   "execution_count": 66,
   "metadata": {},
   "outputs": [
    {
     "data": {
      "text/plain": [
       "array([[[[0., 0., 0., 0.],\n",
       "         [0., 0., 0., 0.],\n",
       "         [0., 0., 0., 0.],\n",
       "         [0., 0., 0., 0.]],\n",
       "\n",
       "        [[0., 0., 0., 0.],\n",
       "         [0., 0., 0., 0.],\n",
       "         [0., 0., 0., 0.],\n",
       "         [0., 0., 0., 0.]],\n",
       "\n",
       "        [[0., 0., 0., 0.],\n",
       "         [0., 0., 0., 0.],\n",
       "         [0., 0., 0., 0.],\n",
       "         [0., 0., 0., 0.]],\n",
       "\n",
       "        [[0., 0., 0., 0.],\n",
       "         [0., 0., 0., 0.],\n",
       "         [0., 0., 0., 0.],\n",
       "         [0., 0., 0., 0.]]],\n",
       "\n",
       "\n",
       "       [[[0., 0., 0., 0.],\n",
       "         [0., 0., 0., 0.],\n",
       "         [0., 0., 0., 0.],\n",
       "         [0., 0., 0., 0.]],\n",
       "\n",
       "        [[0., 0., 0., 0.],\n",
       "         [0., 0., 0., 0.],\n",
       "         [0., 0., 0., 0.],\n",
       "         [0., 0., 0., 0.]],\n",
       "\n",
       "        [[0., 0., 0., 0.],\n",
       "         [0., 0., 0., 0.],\n",
       "         [0., 0., 0., 0.],\n",
       "         [0., 0., 0., 0.]],\n",
       "\n",
       "        [[0., 0., 0., 0.],\n",
       "         [0., 0., 0., 0.],\n",
       "         [0., 0., 0., 0.],\n",
       "         [0., 0., 0., 0.]]],\n",
       "\n",
       "\n",
       "       [[[0., 0., 0., 0.],\n",
       "         [0., 0., 0., 0.],\n",
       "         [0., 0., 0., 0.],\n",
       "         [0., 0., 0., 0.]],\n",
       "\n",
       "        [[0., 0., 0., 0.],\n",
       "         [0., 0., 0., 0.],\n",
       "         [0., 0., 0., 0.],\n",
       "         [0., 0., 0., 0.]],\n",
       "\n",
       "        [[0., 0., 0., 0.],\n",
       "         [0., 0., 0., 0.],\n",
       "         [0., 0., 0., 0.],\n",
       "         [0., 0., 0., 0.]],\n",
       "\n",
       "        [[0., 0., 0., 0.],\n",
       "         [0., 0., 0., 0.],\n",
       "         [0., 0., 0., 0.],\n",
       "         [0., 0., 0., 0.]]],\n",
       "\n",
       "\n",
       "       [[[0., 0., 0., 0.],\n",
       "         [0., 0., 0., 0.],\n",
       "         [0., 0., 0., 0.],\n",
       "         [0., 0., 0., 0.]],\n",
       "\n",
       "        [[0., 0., 0., 0.],\n",
       "         [0., 0., 0., 0.],\n",
       "         [0., 0., 0., 0.],\n",
       "         [0., 0., 0., 0.]],\n",
       "\n",
       "        [[0., 0., 0., 0.],\n",
       "         [0., 0., 0., 0.],\n",
       "         [0., 0., 0., 0.],\n",
       "         [0., 0., 0., 0.]],\n",
       "\n",
       "        [[0., 0., 0., 0.],\n",
       "         [0., 0., 0., 0.],\n",
       "         [0., 0., 0., 0.],\n",
       "         [0., 0., 0., 0.]]]])"
      ]
     },
     "execution_count": 66,
     "metadata": {},
     "output_type": "execute_result"
    }
   ],
   "source": [
    "B = np.zeros((mo_integrals.shape[0],mo_integrals.shape[0],mo_integrals.shape[0],mo_integrals.shape[0]))\n",
    "\n",
    "for a in range(0,mol.nelectron//2):\n",
    "    for r in range(mol.nelectron//2,B.shape[1]):\n",
    "        for b in range(0,mol.nelectron//2):\n",
    "            for s in range(mol.nelectron//2,B.shape[3]):\n",
    "                B[a,r,b,s]+=integrals_pqrs[r,s,a,b]-integrals_pqrs[r,s,b,a]\n",
    "B"
   ]
  },
  {
   "cell_type": "code",
   "execution_count": 67,
   "metadata": {},
   "outputs": [],
   "source": [
    "A = np.zeros((mo_integrals.shape[0],mo_integrals.shape[0],mo_integrals.shape[0],mo_integrals.shape[0]))\n",
    "\n",
    "for a in range(0,mol.nelectron//2):\n",
    "    for r in range(mol.nelectron//2,B.shape[1]):\n",
    "        for b in range(0,mol.nelectron//2):\n",
    "            for s in range(mol.nelectron//2,B.shape[3]):\n",
    "                A[a,r,b,s]+=mo_integrals[r,b,a,s]-mo_integrals[r,b,s,a]\n",
    "                if a==b and r==s:\n",
    "                    A[a,r,b,s]+= (F_diag_procedure[0][r] - F_diag_procedure[0][a])\n",
    "\n",
    "#for i in range(0,A.shape[0]):\n",
    "#    A[i,i,i,i]=A[i,i,i,i]+"
   ]
  },
  {
   "cell_type": "code",
   "execution_count": null,
   "metadata": {},
   "outputs": [],
   "source": []
  },
  {
   "cell_type": "code",
   "execution_count": null,
   "metadata": {},
   "outputs": [],
   "source": [
    "B = np.zeros((mol.nelectron//2*(overlap_integrals.shape[0]-mol.nelectron//2),mol.nelectron//2*(overlap_integrals.shape[0]-mol.nelectron//2)))\n",
    "\n",
    "#mf = scf.RHF(mol).run()\n",
    "#mo_ints = ao2mo.kernel(mol, mf.mo_coeff)\n",
    "#mo_ints = ao2mo.restore(1, mo_ints, mol.nao_nr())\n",
    "#mo_integrals = mo_ints\n",
    "\n",
    "arindex = -1\n",
    "for a in range(0,mol.nelectron//2):\n",
    "    for r in range(mol.nelectron//2,overlap_integrals.shape[0]):\n",
    "        arindex += 1\n",
    "        bsindex = -1\n",
    "        for b in range(0,mol.nelectron//2):\n",
    "            for s in range(mol.nelectron//2,overlap_integrals.shape[0]):\n",
    "                bsindex += 1\n",
    "                B[arindex,bsindex]+=2*mo_integrals[r,s,a,b]-mo_integrals[r,s,b,a]\n",
    "               # lol[a,b] = 1\n",
    "               # lol[r,s] = 2\n",
    "                #print(r,s,a,b,mo_integrals[r,s,a,b]-mo_integrals[r,s,b,a],mo_integrals[r,s,a,b],mo_integrals[r,s,b,a])\n",
    "#assert np.allclose(B, np.zeros(B.shape))\n",
    "print(B)"
   ]
  },
  {
   "cell_type": "code",
   "execution_count": null,
   "metadata": {},
   "outputs": [],
   "source": [
    "A = np.zeros((mol.nelectron//2*(overlap_integrals.shape[0]-mol.nelectron//2),mol.nelectron//2*(overlap_integrals.shape[0]-mol.nelectron//2)))\n",
    "\n",
    "arindex = -1\n",
    "for a in range(0,mol.nelectron//2):\n",
    "    for r in range(mol.nelectron//2,overlap_integrals.shape[0]):\n",
    "        arindex += 1\n",
    "        bsindex = -1\n",
    "        for b in range(0,mol.nelectron//2):\n",
    "            for s in range(mol.nelectron//2,overlap_integrals.shape[0]):\n",
    "                bsindex += 1\n",
    "                A[arindex,bsindex]+=2*mo_integrals[r,b,a,s]-mo_integrals[r,b,s,a]\n",
    "                if a==b:\n",
    "                    A[arindex,bsindex] += F_diag_procedure[0][r]\n",
    "                if r==s:\n",
    "                    A[arindex,bsindex] += - F_diag_procedure[0][a]\n",
    "                    \n",
    "print(A)"
   ]
  },
  {
   "cell_type": "code",
   "execution_count": null,
   "metadata": {},
   "outputs": [],
   "source": []
  },
  {
   "cell_type": "code",
   "execution_count": null,
   "metadata": {},
   "outputs": [],
   "source": []
  },
  {
   "cell_type": "code",
   "execution_count": null,
   "metadata": {},
   "outputs": [],
   "source": []
  }
 ],
 "metadata": {
  "kernelspec": {
   "display_name": "Python 3",
   "language": "python",
   "name": "python3"
  },
  "language_info": {
   "codemirror_mode": {
    "name": "ipython",
    "version": 3
   },
   "file_extension": ".py",
   "mimetype": "text/x-python",
   "name": "python",
   "nbconvert_exporter": "python",
   "pygments_lexer": "ipython3",
   "version": "3.7.1"
  }
 },
 "nbformat": 4,
 "nbformat_minor": 2
}
