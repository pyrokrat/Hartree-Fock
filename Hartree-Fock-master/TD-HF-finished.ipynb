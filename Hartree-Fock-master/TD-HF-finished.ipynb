{
 "cells": [
  {
   "cell_type": "code",
   "execution_count": 1,
   "metadata": {},
   "outputs": [],
   "source": [
    "import numpy as np\n",
    "from pyscf import gto, scf, df, ao2mo"
   ]
  },
  {
   "cell_type": "code",
   "execution_count": 71,
   "metadata": {},
   "outputs": [],
   "source": [
    "#mol = gto.M(atom='He 0 0 0; H 0 0 1', basis='STO-3G', charge = 1)\n",
    "#mol = gto.M(atom='He 0 0 0; H 0 0 1', basis='pc-3', charge = 1)\n",
    "mol = gto.M(atom='Be 0 0 0', basis='6-31G', charge = 0)\n",
    "#mol = gto.M(atom='H 0 0 0; H 0 0 0.740848149', basis='STO-3G', charge = 0)\n",
    "#mol = gto.M(atom=\"O 0.00000 0.00000 0.11779; H 0.00000 0.75545 -0.47116; H 0.00000 -0.75545 -0.47116\", basis = \"sto-3g\")\n",
    "#mol = gto.M(atom=\"H 0.8668114 0.6014355  -0.000000000000; O 0.00000 -0.075791807925  0.00000; H -0.8668114 0.6014355  -0.000000000000\", basis = \"sto-3g\")"
   ]
  },
  {
   "cell_type": "code",
   "execution_count": 72,
   "metadata": {},
   "outputs": [
    {
     "name": "stdout",
     "output_type": "stream",
     "text": [
      "tot_nuc_energy 0\n"
     ]
    }
   ],
   "source": [
    "#calculate nuclear repulsion energy\n",
    "tot_nuc_energy=0\n",
    "for i in range(0,len(mol.atom_coords())-1):\n",
    "    for j in range(0,len(mol.atom_coords())):\n",
    "        if j > i:\n",
    "            print(\"i\",i,\"-- j\",j)\n",
    "            x=mol.atom_coord(i)-mol.atom_coord(j)\n",
    "           # print(\"x\",x)\n",
    "            norm=np.linalg.norm(x)\n",
    "           # print(\"norm\",norm)\n",
    "            nuc_energy=mol.atom_charge(i)*mol.atom_charge(j)/norm\n",
    "            print(\"nuc_energy\",nuc_energy)     \n",
    "            tot_nuc_energy+=nuc_energy\n",
    "print(\"tot_nuc_energy\",tot_nuc_energy)"
   ]
  },
  {
   "cell_type": "code",
   "execution_count": 73,
   "metadata": {},
   "outputs": [],
   "source": [
    "#get integrals and calculate core Hamiltonian\n",
    "\n",
    "overlap_integrals = mol.intor('int1e_ovlp_sph')\n",
    "kinetic_energy_integrals = mol.intor('int1e_kin_sph')\n",
    "nuclear_attraction_integrals = mol.intor('int1e_nuc_sph')\n",
    "two_electron_integrals = mol.intor('int2e_sph')\n",
    "H_core = kinetic_energy_integrals + nuclear_attraction_integrals\n"
   ]
  },
  {
   "cell_type": "code",
   "execution_count": 74,
   "metadata": {},
   "outputs": [
    {
     "name": "stdout",
     "output_type": "stream",
     "text": [
      "iteration 1         energy = -14.354283984261523       difference = 10014.354283984261     \n",
      "iteration 2         energy = -14.553802777874642       difference = 0.19951879361311953    \n",
      "iteration 3         energy = -14.566109735589508       difference = 0.012306957714866229   \n",
      "iteration 4         energy = -14.56673215621623        difference = 0.0006224206267209098  \n",
      "iteration 5         energy = -14.56676249189739        difference = 3.033568115995422e-05  \n",
      "iteration 6         energy = -14.56676395907595        difference = 1.4671785599773557e-06 \n",
      "iteration 7         energy = -14.56676402991702        difference = 7.084106989907468e-08  \n",
      "iteration 8         energy = -14.566764033336243       difference = 3.419224015033251e-09  \n",
      "iteration 9         energy = -14.566764033501256       difference = 1.6501289223924687e-10 \n",
      "iteration 10        energy = -14.56676403350922        difference = 7.963407711031323e-12  \n",
      "iteration 11        energy = -14.5667640335096         difference = 3.801403636316536e-13  \n",
      "energy converged\n",
      "final SCF energy including nuclear repulsion: -14.5667640335096\n"
     ]
    }
   ],
   "source": [
    "#diagonalize overlap matrix\n",
    "overlap_diag_procedure = np.linalg.eigh(overlap_integrals)\n",
    "#get U and S^-0.5\n",
    "U = overlap_diag_procedure[1]\n",
    "s_inverse_sqrt = np.diag(1/overlap_diag_procedure[0])**0.5\n",
    "#get transformation matrix X\n",
    "X = np.matmul(U,np.matmul(s_inverse_sqrt,np.matrix.transpose(U)))\n",
    "#set guess for P matrix, default core hamiltonian\n",
    "P = np.zeros((overlap_integrals.shape[0], overlap_integrals.shape[0]))\n",
    "\n",
    "#start iterations - everything in Mulliken ordering!!!!\n",
    "counter = 0\n",
    "maxiter = 100\n",
    "energy_difference=10000\n",
    "energy_last_iter=10000\n",
    "energy=0\n",
    "\n",
    "for counter in range(0,maxiter):\n",
    "    G = np.zeros((overlap_integrals.shape[0], overlap_integrals.shape[0]))\n",
    "\n",
    "    for i in range(0,two_electron_integrals.shape[0]):\n",
    "        for j in range(0,two_electron_integrals.shape[1]):\n",
    "            for k in range(0,two_electron_integrals.shape[2]):\n",
    "                for l in range(0,two_electron_integrals.shape[3]):\n",
    "                    G[i,j]+=P[k,l]*(two_electron_integrals[i,j,k,l]-0.5*two_electron_integrals[i,l,k,j])\n",
    "\n",
    "    F = np.zeros((overlap_integrals.shape[0], overlap_integrals.shape[0]))\n",
    "    F = H_core + G\n",
    "    \n",
    "    if counter >= 1:\n",
    "        energy = 0\n",
    "        for i in range(0,overlap_integrals.shape[0]):\n",
    "            for j in range(0,overlap_integrals.shape[0]):\n",
    "                energy += 0.5*(P[i,j]*(H_core[i,j]+F[i,j]))\n",
    "        energy_difference = abs(energy-energy_last_iter)\n",
    "        print('iteration {:<9}'.format(counter),\"energy = {:<25}\".format(energy), \"difference = {:<23}\".format(energy_difference))\n",
    "        energy_last_iter = energy\n",
    "    if energy_difference < 10**-12:\n",
    "        print(\"energy converged\")\n",
    "        SCF_final_energy = energy + tot_nuc_energy\n",
    "        print(\"final SCF energy including nuclear repulsion:\",SCF_final_energy)\n",
    "        break\n",
    "    counter+=1    \n",
    "\n",
    "    F_prime = np.matmul(np.matrix.transpose(X),np.matmul(F,X))\n",
    "    F_diag_procedure = np.linalg.eigh(F_prime)\n",
    "    \n",
    "    C = np.matmul(X,F_diag_procedure[1])\n",
    "    \n",
    "    P_new = np.zeros((overlap_integrals.shape[0], overlap_integrals.shape[0]))\n",
    "    \n",
    "    for i in range(0,overlap_integrals.shape[0]):\n",
    "        for j in range(0,overlap_integrals.shape[1]):    \n",
    "            for a in range(0,mol.nelectron//2):\n",
    "                P_new[i,j]+=2*C[i,a]*C[j,a]\n",
    "\n",
    "    P = P_new\n"
   ]
  },
  {
   "cell_type": "code",
   "execution_count": 75,
   "metadata": {},
   "outputs": [],
   "source": [
    "#transform to MOs\n",
    "\n",
    "C_ao_mo = np.zeros((F_diag_procedure[1].shape[0],F_diag_procedure[1].shape[1]))\n",
    "C_ao_mo[:,:]=C[:,:]\n",
    "\n",
    "integrals_ijks = np.zeros((overlap_integrals.shape[0],overlap_integrals.shape[0],overlap_integrals.shape[0],overlap_integrals.shape[0]))\n",
    "integrals_ijrs = np.zeros((overlap_integrals.shape[0],overlap_integrals.shape[0],overlap_integrals.shape[0],overlap_integrals.shape[0]))\n",
    "integrals_iqrs = np.zeros((overlap_integrals.shape[0],overlap_integrals.shape[0],overlap_integrals.shape[0],overlap_integrals.shape[0]))\n",
    "integrals_pqrs = np.zeros((overlap_integrals.shape[0],overlap_integrals.shape[0],overlap_integrals.shape[0],overlap_integrals.shape[0]))\n",
    "\n",
    "for s in range(0,integrals_ijks.shape[0]):\n",
    "    for i in range(0,two_electron_integrals.shape[0]):\n",
    "        for j in range(0,two_electron_integrals.shape[1]):\n",
    "            for k in range(0,two_electron_integrals.shape[2]):\n",
    "                for l in range(0,two_electron_integrals.shape[3]):\n",
    "                    integrals_ijks[i,j,k,s]+=C_ao_mo[l,s]*two_electron_integrals[i,j,k,l]\n",
    "    \n",
    "for s in range(0,integrals_ijrs.shape[0]):\n",
    "    for r in range(0,integrals_ijrs.shape[1]):\n",
    "        for i in range(0,two_electron_integrals.shape[0]):\n",
    "            for j in range(0,two_electron_integrals.shape[1]):\n",
    "                for k in range(0,two_electron_integrals.shape[2]):\n",
    "                    integrals_ijrs[i,j,r,s]+=C_ao_mo[k,r]*integrals_ijks[i,j,k,s]\n",
    "\n",
    "for s in range(0,integrals_iqrs.shape[0]):\n",
    "    for r in range(0,integrals_iqrs.shape[1]):\n",
    "        for q in range(0,integrals_iqrs.shape[2]):\n",
    "            for i in range(0,two_electron_integrals.shape[0]):\n",
    "                for j in range(0,two_electron_integrals.shape[1]):\n",
    "                    integrals_iqrs[i,q,r,s]+=C_ao_mo[j,q]*integrals_ijrs[i,j,r,s]\n",
    "\n",
    "for s in range(0,integrals_pqrs.shape[0]):\n",
    "    for r in range(0,integrals_pqrs.shape[1]):\n",
    "        for q in range(0,integrals_pqrs.shape[2]):\n",
    "            for p in range(0,integrals_pqrs.shape[3]):\n",
    "                for i in range(0,two_electron_integrals.shape[0]):\n",
    "                    integrals_pqrs[p,q,r,s]+=C_ao_mo[i,p]*integrals_iqrs[i,q,r,s]\n",
    "                    \n",
    "\n",
    "#transform to MO-spin integrals\n",
    "#DIRAC-Notation!!!!\n",
    "\n",
    "mo_integrals = integrals_pqrs\n",
    "mo_integrals_spin = np.zeros((len(mo_integrals)*2,len(mo_integrals)*2,len(mo_integrals)*2,len(mo_integrals)*2))\n",
    "for p in range(1,len(mo_integrals_spin)+1):\n",
    "    for r in range(1,len(mo_integrals_spin)+1):\n",
    "        if (p%2==r%2):\n",
    "            #print(\"pr:\", p,r)\n",
    "            for q in range(1,len(mo_integrals_spin)+1):\n",
    "                for s in range(1,len(mo_integrals_spin)+1):\n",
    "                    if (q%2==s%2):\n",
    "                        #print(\"qs:\", q,s)\n",
    "                        mo_integrals_spin[p-1,q-1,r-1,s-1]=mo_integrals[(p+1)//2-1,(r+1)//2-1,(q+1)//2-1,(s+1)//2-1]\n"
   ]
  },
  {
   "cell_type": "code",
   "execution_count": 76,
   "metadata": {},
   "outputs": [
    {
     "name": "stdout",
     "output_type": "stream",
     "text": [
      "hartree                       eV\n",
      "-------------------------------------------------------------\n",
      " 0.00000000                    0.00000000\n",
      " 0.18956763                    5.15843852\n",
      " 0.43266264                   11.77344269\n",
      " 0.43310437                   11.78546287\n",
      " 0.47989224                   13.05863568\n",
      " 0.52851627                   14.38177333\n",
      " 4.30472019                  117.13832392\n",
      " 4.34055924                  118.11356182\n",
      " 4.70613586                  128.06148657\n",
      " 4.72101204                  128.46629123\n",
      " 4.73163418                  128.75533665\n",
      " 4.76236572                  129.59159103\n"
     ]
    }
   ],
   "source": [
    "#get A and B matrizes\n",
    "\n",
    "eigenenergies=np.zeros((len(F_diag_procedure[0])*2))\n",
    "for i in range(0,len(eigenenergies)):\n",
    "    eigenenergies[i]+= np.dot(C.T,np.dot(F,C))[i//2][i//2]\n",
    "\n",
    "A = np.zeros((mol.nelectron*(overlap_integrals.shape[0]*2-mol.nelectron),mol.nelectron*(overlap_integrals.shape[0]*2-mol.nelectron)))\n",
    "B = np.zeros((mol.nelectron*(overlap_integrals.shape[0]*2-mol.nelectron),mol.nelectron*(overlap_integrals.shape[0]*2-mol.nelectron)))\n",
    "\n",
    "arindex = -1\n",
    "for a in range(0,mol.nelectron):\n",
    "    for r in range(mol.nelectron,overlap_integrals.shape[0]*2):\n",
    "        arindex += 1\n",
    "        bsindex = -1\n",
    "        for b in range(0,mol.nelectron):\n",
    "            for s in range(mol.nelectron,overlap_integrals.shape[0]*2):\n",
    "                bsindex += 1\n",
    "                B[arindex,bsindex]+=mo_integrals_spin[r,s,a,b]-mo_integrals_spin[r,s,b,a]\n",
    "                A[arindex,bsindex]+=mo_integrals_spin[r,b,a,s]-mo_integrals_spin[r,b,s,a]\n",
    "                if a==b and r==s:\n",
    "                    A[arindex,bsindex] += eigenenergies[r] - eigenenergies[a]\n",
    "                    \n",
    "mat = np.matmul((A+B),(A-B)) \n",
    "Exc = np.real(np.sort(np.sqrt(np.linalg.eigvals(mat))))\n",
    "#print('hartree {:<20}'.format(\"\"),\"eV\")\n",
    "#print(\"-------------------------------------------------------------\")\n",
    "#for i in range(0,len(Exc)): \n",
    "#    print('{:<28}'.format(Exc[i]),Exc[i]*27.2116)\n",
    "            \n",
    "Exc_cut = unique = np.unique(Exc.round(decimals=8))\n",
    "Exc_eV = Exc_cut*27.2116\n",
    "print('hartree {:<21}'.format(\"\"),\"eV\")\n",
    "print(\"-------------------------------------------------------------\")\n",
    "for i in range(0,len(Exc_cut)): \n",
    "    print('{:<28}'.format(f'{Exc_cut[i]:11.8f}'),f'{Exc_eV[i].round(decimals=8):12.8f}')"
   ]
  },
  {
   "cell_type": "code",
   "execution_count": null,
   "metadata": {},
   "outputs": [],
   "source": [
    "\n"
   ]
  },
  {
   "cell_type": "code",
   "execution_count": null,
   "metadata": {},
   "outputs": [],
   "source": []
  }
 ],
 "metadata": {
  "kernelspec": {
   "display_name": "Python 3",
   "language": "python",
   "name": "python3"
  },
  "language_info": {
   "codemirror_mode": {
    "name": "ipython",
    "version": 3
   },
   "file_extension": ".py",
   "mimetype": "text/x-python",
   "name": "python",
   "nbconvert_exporter": "python",
   "pygments_lexer": "ipython3",
   "version": "3.7.1"
  }
 },
 "nbformat": 4,
 "nbformat_minor": 2
}
