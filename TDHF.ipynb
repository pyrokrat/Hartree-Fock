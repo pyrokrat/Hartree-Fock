{
 "cells": [
  {
   "cell_type": "code",
   "execution_count": 1,
   "metadata": {},
   "outputs": [],
   "source": [
    "import numpy as np\n",
    "from pyscf import gto, scf, df"
   ]
  },
  {
   "cell_type": "code",
   "execution_count": 67,
   "metadata": {},
   "outputs": [],
   "source": [
    "#mol = gto.M(atom='He 0 0 0; H 0 0 1', basis='STO-3G', charge = 1)\n",
    "#mol = gto.M(atom='He 0 0 0; H 0 0 1', basis='pc-3', charge = 1)\n",
    "#mol = gto.M(atom='C 0 0 0; O 0 0 1.128', basis='STO-3G', charge = 0)\n",
    "mol = gto.M(atom='H 0 0 0; H 0 0 0.740848149', basis='STO-3G', charge = 0)\n",
    "#mol = gto.M(atom=\"O 0.00000 0.00000 0.11779; H 0.00000 0.75545 -0.47116; H 0.00000 -0.75545 -0.47116\", basis = \"sto-3g\")"
   ]
  },
  {
   "cell_type": "code",
   "execution_count": 68,
   "metadata": {},
   "outputs": [
    {
     "name": "stdout",
     "output_type": "stream",
     "text": [
      "i 0 -- j 1\n",
      "nuc_energy 1.05835442184\n",
      "tot_nuc_energy 1.05835442184\n"
     ]
    }
   ],
   "source": [
    "#calculate nuclear repulsion energy\n",
    "tot_nuc_energy=0\n",
    "for i in range(0,len(mol.atom_coords())-1):\n",
    "    for j in range(0,len(mol.atom_coords())):\n",
    "        if j > i:\n",
    "            print(\"i\",i,\"-- j\",j)\n",
    "            x=mol.atom_coord(i)-mol.atom_coord(j)\n",
    "           # print(\"x\",x)\n",
    "            norm=np.linalg.norm(x)\n",
    "           # print(\"norm\",norm)\n",
    "            nuc_energy=mol.atom_charge(i)*mol.atom_charge(j)/norm\n",
    "            print(\"nuc_energy\",nuc_energy)     \n",
    "            tot_nuc_energy+=nuc_energy\n",
    "print(\"tot_nuc_energy\",tot_nuc_energy)"
   ]
  },
  {
   "cell_type": "code",
   "execution_count": 69,
   "metadata": {},
   "outputs": [],
   "source": [
    "#get integrals and calculate core Hamiltonian\n",
    "\n",
    "overlap_integrals = mol.intor('int1e_ovlp_sph')\n",
    "#print(\"overlap_integrals\")\n",
    "#print(overlap_integrals)\n",
    "kinetic_energy_integrals = mol.intor('int1e_kin_sph')\n",
    "#print(\"kinetic_energy_integrals\")\n",
    "#print(kinetic_energy_integrals)\n",
    "nuclear_attraction_integrals = mol.intor('int1e_nuc_sph')\n",
    "#print(\"nuclear_attraction_integrals\")\n",
    "#print(nuclear_attraction_integrals)\n",
    "two_electron_integrals = mol.intor('int2e_sph')\n",
    "#print(\"two_electron_integrals\")\n",
    "#print(two_electron_integrals)\n",
    "H_core = kinetic_energy_integrals + nuclear_attraction_integrals"
   ]
  },
  {
   "cell_type": "code",
   "execution_count": 70,
   "metadata": {},
   "outputs": [],
   "source": [
    "#diagonalize overlap matrix\n",
    "overlap_diag_procedure = np.linalg.eigh(overlap_integrals)\n",
    "#get U and S^-0.5\n",
    "U = overlap_diag_procedure[1]\n",
    "s_inverse_sqrt = np.diag(1/overlap_diag_procedure[0])**0.5\n",
    "#get transformation matrix X\n",
    "X = np.matmul(U,np.matmul(s_inverse_sqrt,np.matrix.transpose(U)))"
   ]
  },
  {
   "cell_type": "code",
   "execution_count": 71,
   "metadata": {},
   "outputs": [],
   "source": [
    "#set guess for P matrix, default core hamiltonian\n",
    "P = np.zeros((overlap_integrals.shape[0], overlap_integrals.shape[0]))"
   ]
  },
  {
   "cell_type": "code",
   "execution_count": 72,
   "metadata": {},
   "outputs": [
    {
     "name": "stdout",
     "output_type": "stream",
     "text": [
      "iteration 1         energy = -3.8697353864597033       difference = 10003.869735386459     \n",
      "iteration 2         energy = -3.9089613943170645       difference = 0.03922600785736119    \n",
      "iteration 3         energy = -3.91118621602481         difference = 0.0022248217077454058  \n",
      "iteration 4         energy = -3.91127236370136         difference = 8.614767655013011e-05  \n",
      "iteration 5         energy = -3.9112753920347405       difference = 3.0283333805058987e-06 \n",
      "iteration 6         energy = -3.911275496453328        difference = 1.0441858755427802e-07 \n",
      "iteration 7         energy = -3.9112755000406887       difference = 3.587360630774583e-09  \n",
      "energy converged\n",
      "final SCF energy including nuclear repulsion: -2.852921078200689\n"
     ]
    }
   ],
   "source": [
    "#start iterations\n",
    "counter = 0\n",
    "maxiter = 100\n",
    "energy_difference=10000\n",
    "energy_last_iter=10000\n",
    "energy=0\n",
    "\n",
    "for counter in range(0,maxiter):\n",
    "    G = np.zeros((overlap_integrals.shape[0], overlap_integrals.shape[0]))\n",
    "\n",
    "    for i in range(0,two_electron_integrals.shape[0]):\n",
    "        for j in range(0,two_electron_integrals.shape[1]):\n",
    "            for k in range(0,two_electron_integrals.shape[2]):\n",
    "                for l in range(0,two_electron_integrals.shape[3]):\n",
    "                    G[i,j]+=P[k,l]*(two_electron_integrals[i,j,k,l]-0.5*two_electron_integrals[i,l,k,j])\n",
    "\n",
    "    F = np.zeros((overlap_integrals.shape[0], overlap_integrals.shape[0]))\n",
    "    F = H_core + G\n",
    "#    print(F)\n",
    "    \n",
    "    if counter >= 1:\n",
    "        energy = 0\n",
    "        for i in range(0,overlap_integrals.shape[0]):\n",
    "            for j in range(0,overlap_integrals.shape[0]):\n",
    "                energy += 0.5*(P[i,j]*(H_core[i,j]+F[i,j]))\n",
    "        energy_difference = abs(energy-energy_last_iter)\n",
    "        print('iteration {:<9}'.format(counter),\"energy = {:<25}\".format(energy), \"difference = {:<23}\".format(energy_difference))\n",
    "        energy_last_iter = energy\n",
    "    if energy_difference < 10**-8:\n",
    "        print(\"energy converged\")\n",
    "        SCF_final_energy = energy + tot_nuc_energy\n",
    "        print(\"final SCF energy including nuclear repulsion:\",SCF_final_energy)\n",
    "        break\n",
    "    counter+=1    \n",
    "\n",
    "    F_prime = np.matmul(np.matrix.transpose(X),np.matmul(F,X))\n",
    "    F_diag_procedure = np.linalg.eigh(F_prime)\n",
    "    \n",
    "    C = np.matmul(X,F_diag_procedure[1])\n",
    "    \n",
    "    P_new = np.zeros((overlap_integrals.shape[0], overlap_integrals.shape[0]))\n",
    "    \n",
    "    for i in range(0,overlap_integrals.shape[0]):\n",
    "        for j in range(0,overlap_integrals.shape[1]):    \n",
    "            for a in range(0,mol.nelectron//2):\n",
    "                P_new[i,j]+=2*C[i,a]*C[j,a]\n",
    "\n",
    "    P = P_new"
   ]
  },
  {
   "cell_type": "code",
   "execution_count": 73,
   "metadata": {},
   "outputs": [
    {
     "data": {
      "text/plain": [
       "(array([-1.48073791, -0.30053173]), array([[-0.93042489,  0.36648263],\n",
       "        [-0.36648263, -0.93042489]]))"
      ]
     },
     "execution_count": 73,
     "metadata": {},
     "output_type": "execute_result"
    }
   ],
   "source": [
    "F_diag_procedure = np.linalg.eigh(F_prime)\n",
    "F_diag_procedure"
   ]
  },
  {
   "cell_type": "code",
   "execution_count": 74,
   "metadata": {},
   "outputs": [
    {
     "name": "stdout",
     "output_type": "stream",
     "text": [
      "-0.9112291659538847\n",
      "-0.18803143049629598\n"
     ]
    }
   ],
   "source": [
    "for i in range(0,2):\n",
    "    print(C[i,0])"
   ]
  },
  {
   "cell_type": "code",
   "execution_count": 75,
   "metadata": {},
   "outputs": [
    {
     "data": {
      "text/plain": [
       "array([[-0.91122917,  0.59257588],\n",
       "       [-0.18803143, -1.07057412]])"
      ]
     },
     "execution_count": 75,
     "metadata": {},
     "output_type": "execute_result"
    }
   ],
   "source": [
    "C"
   ]
  },
  {
   "cell_type": "code",
   "execution_count": null,
   "metadata": {},
   "outputs": [],
   "source": []
  },
  {
   "cell_type": "code",
   "execution_count": null,
   "metadata": {},
   "outputs": [],
   "source": []
  },
  {
   "cell_type": "code",
   "execution_count": null,
   "metadata": {},
   "outputs": [],
   "source": []
  },
  {
   "cell_type": "code",
   "execution_count": 76,
   "metadata": {},
   "outputs": [],
   "source": [
    "def integraltransformation(I, C):\n",
    "    # N^5 scaling\n",
    "    K = np.einsum('pi,ijkl->pjkl', C, I)\n",
    "    K = np.einsum('qj,pjkl->pqkl', C, K)\n",
    "    K = np.einsum('rk,pqkl->pqrl', C, K)\n",
    "    K = np.einsum('sl,pqrl->pqrs', C, K)\n",
    "    return K"
   ]
  },
  {
   "cell_type": "code",
   "execution_count": 77,
   "metadata": {},
   "outputs": [
    {
     "data": {
      "text/plain": [
       "array([[[[ 0.51380563,  0.04473225],\n",
       "         [ 0.04473225,  0.59369196]],\n",
       "\n",
       "        [[ 0.04473225,  0.14073228],\n",
       "         [ 0.14073228, -0.22164568]]],\n",
       "\n",
       "\n",
       "       [[[ 0.04473225,  0.14073228],\n",
       "         [ 0.14073228, -0.22164568]],\n",
       "\n",
       "        [[ 0.59369196, -0.22164568],\n",
       "         [-0.22164568,  1.31145752]]]])"
      ]
     },
     "execution_count": 77,
     "metadata": {},
     "output_type": "execute_result"
    }
   ],
   "source": [
    "C_ao_mo = np.zeros((F_diag_procedure[1].shape[0],F_diag_procedure[1].shape[1]))\n",
    "\n",
    "for i in range(0,C_ao_mo.shape[0]):\n",
    "    for p in range(0,C_ao_mo.shape[1]):\n",
    "        C_ao_mo[i,p]=C[i,p]\n",
    "        \n",
    "mo_integrals = integraltransformation(two_electron_integrals,C_ao_mo)\n",
    "mo_integrals"
   ]
  },
  {
   "cell_type": "code",
   "execution_count": 78,
   "metadata": {},
   "outputs": [
    {
     "name": "stdout",
     "output_type": "stream",
     "text": [
      "0 1 0 1\n"
     ]
    }
   ],
   "source": [
    "B = np.zeros((mol.nelectron//2,overlap_integrals.shape[0]-mol.nelectron//2,mol.nelectron//2,overlap_integrals.shape[0]-mol.nelectron//2))\n",
    "\n",
    "for a in range(0,mol.nelectron//2):\n",
    "    for r in range(mol.nelectron//2,overlap_integrals.shape[0]):\n",
    "        for b in range(0,mol.nelectron//2):\n",
    "            for s in range(mol.nelectron//2,overlap_integrals.shape[0]):\n",
    "                print(a,r,b,s)\n",
    "                B[a,(r-mol.nelectron//2),b,(s-mol.nelectron//2)]+=mo_integrals[r,s,a,b]-mo_integrals[r,s,b,a]"
   ]
  },
  {
   "cell_type": "code",
   "execution_count": 79,
   "metadata": {},
   "outputs": [
    {
     "data": {
      "text/plain": [
       "array([[[[0.]]]])"
      ]
     },
     "execution_count": 79,
     "metadata": {},
     "output_type": "execute_result"
    }
   ],
   "source": [
    "B"
   ]
  },
  {
   "cell_type": "code",
   "execution_count": 80,
   "metadata": {},
   "outputs": [],
   "source": [
    "A = np.zeros((mol.nelectron//2,overlap_integrals.shape[0]-mol.nelectron//2,mol.nelectron//2,overlap_integrals.shape[0]-mol.nelectron//2))\n",
    "\n",
    "for a in range(0,mol.nelectron//2):\n",
    "    for r in range(mol.nelectron//2,overlap_integrals.shape[0]):\n",
    "        for b in range(0,mol.nelectron//2):\n",
    "            for s in range(mol.nelectron//2,overlap_integrals.shape[0]):\n",
    "                #print(a,r,b,s)\n",
    "                A[a,(r-mol.nelectron//2),b,(s-mol.nelectron//2)]+=mo_integrals[r,b,a,s]-mo_integrals[r,b,s,a]\n",
    "                if a==b and r==s:\n",
    "                    A[a,(r-mol.nelectron//2),b,(s-mol.nelectron//2)]+= (F_diag_procedure[0][r] - F_diag_procedure[0][a])\n"
   ]
  },
  {
   "cell_type": "code",
   "execution_count": 81,
   "metadata": {},
   "outputs": [
    {
     "data": {
      "text/plain": [
       "array([[[[1.18020618]]]])"
      ]
     },
     "execution_count": 81,
     "metadata": {},
     "output_type": "execute_result"
    }
   ],
   "source": [
    "A"
   ]
  },
  {
   "cell_type": "code",
   "execution_count": 82,
   "metadata": {},
   "outputs": [],
   "source": [
    "mat = np.matmul((A+B),(A-B)) "
   ]
  },
  {
   "cell_type": "code",
   "execution_count": 83,
   "metadata": {},
   "outputs": [
    {
     "data": {
      "text/plain": [
       "array([[[[1.39288662]]]])"
      ]
     },
     "execution_count": 83,
     "metadata": {},
     "output_type": "execute_result"
    }
   ],
   "source": [
    "mat"
   ]
  },
  {
   "cell_type": "markdown",
   "metadata": {},
   "source": [
    "asdf"
   ]
  },
  {
   "cell_type": "markdown",
   "metadata": {},
   "source": []
  },
  {
   "cell_type": "code",
   "execution_count": null,
   "metadata": {},
   "outputs": [],
   "source": []
  },
  {
   "cell_type": "code",
   "execution_count": 18,
   "metadata": {},
   "outputs": [],
   "source": []
  },
  {
   "cell_type": "code",
   "execution_count": null,
   "metadata": {},
   "outputs": [],
   "source": []
  },
  {
   "cell_type": "code",
   "execution_count": null,
   "metadata": {},
   "outputs": [],
   "source": []
  },
  {
   "cell_type": "code",
   "execution_count": null,
   "metadata": {},
   "outputs": [],
   "source": []
  },
  {
   "cell_type": "code",
   "execution_count": null,
   "metadata": {},
   "outputs": [],
   "source": []
  },
  {
   "cell_type": "code",
   "execution_count": null,
   "metadata": {},
   "outputs": [],
   "source": []
  },
  {
   "cell_type": "code",
   "execution_count": 20,
   "metadata": {},
   "outputs": [
    {
     "ename": "NameError",
     "evalue": "name 'integrals_ijks' is not defined",
     "output_type": "error",
     "traceback": [
      "\u001b[0;31m---------------------------------------------------------------------------\u001b[0m",
      "\u001b[0;31mNameError\u001b[0m                                 Traceback (most recent call last)",
      "\u001b[0;32m<ipython-input-20-4399039ed1ac>\u001b[0m in \u001b[0;36m<module>\u001b[0;34m\u001b[0m\n\u001b[1;32m     11\u001b[0m \u001b[0;34m\u001b[0m\u001b[0m\n\u001b[1;32m     12\u001b[0m \u001b[0;34m\u001b[0m\u001b[0m\n\u001b[0;32m---> 13\u001b[0;31m \u001b[0;32mfor\u001b[0m \u001b[0ms\u001b[0m \u001b[0;32min\u001b[0m \u001b[0mrange\u001b[0m\u001b[0;34m(\u001b[0m\u001b[0;36m0\u001b[0m\u001b[0;34m,\u001b[0m\u001b[0mintegrals_ijks\u001b[0m\u001b[0;34m.\u001b[0m\u001b[0mshape\u001b[0m\u001b[0;34m[\u001b[0m\u001b[0;36m0\u001b[0m\u001b[0;34m]\u001b[0m\u001b[0;34m)\u001b[0m\u001b[0;34m:\u001b[0m\u001b[0;34m\u001b[0m\u001b[0;34m\u001b[0m\u001b[0m\n\u001b[0m\u001b[1;32m     14\u001b[0m     \u001b[0;32mfor\u001b[0m \u001b[0mi\u001b[0m \u001b[0;32min\u001b[0m \u001b[0mrange\u001b[0m\u001b[0;34m(\u001b[0m\u001b[0;36m0\u001b[0m\u001b[0;34m,\u001b[0m\u001b[0mtwo_electron_integrals\u001b[0m\u001b[0;34m.\u001b[0m\u001b[0mshape\u001b[0m\u001b[0;34m[\u001b[0m\u001b[0;36m0\u001b[0m\u001b[0;34m]\u001b[0m\u001b[0;34m)\u001b[0m\u001b[0;34m:\u001b[0m\u001b[0;34m\u001b[0m\u001b[0;34m\u001b[0m\u001b[0m\n\u001b[1;32m     15\u001b[0m         \u001b[0;32mfor\u001b[0m \u001b[0mj\u001b[0m \u001b[0;32min\u001b[0m \u001b[0mrange\u001b[0m\u001b[0;34m(\u001b[0m\u001b[0;36m0\u001b[0m\u001b[0;34m,\u001b[0m\u001b[0mtwo_electron_integrals\u001b[0m\u001b[0;34m.\u001b[0m\u001b[0mshape\u001b[0m\u001b[0;34m[\u001b[0m\u001b[0;36m1\u001b[0m\u001b[0;34m]\u001b[0m\u001b[0;34m)\u001b[0m\u001b[0;34m:\u001b[0m\u001b[0;34m\u001b[0m\u001b[0;34m\u001b[0m\u001b[0m\n",
      "\u001b[0;31mNameError\u001b[0m: name 'integrals_ijks' is not defined"
     ]
    }
   ],
   "source": [
    "ntegrals_ijks = np.zeros((overlap_integrals.shape[0],overlap_integrals.shape[0],overlap_integrals.shape[0],overlap_integrals.shape[0]))\n",
    "integrals_ijrs = np.zeros((overlap_integrals.shape[0],overlap_integrals.shape[0],overlap_integrals.shape[0],overlap_integrals.shape[0]))\n",
    "integrals_iqrs = np.zeros((overlap_integrals.shape[0],overlap_integrals.shape[0],overlap_integrals.shape[0],overlap_integrals.shape[0]))\n",
    "integrals_pqrs = np.zeros((overlap_integrals.shape[0],overlap_integrals.shape[0],overlap_integrals.shape[0],overlap_integrals.shape[0]))\n",
    "C_ao_mo = np.zeros((F_diag_procedure[1].shape[0],F_diag_procedure[1].shape[1]))\n",
    "\n",
    "\n",
    "for i in range(0,C_ao_mo.shape[0]):\n",
    "    for p in range(0,C_ao_mo.shape[1]):\n",
    "        C_ao_mo[i,p]=C[i,p]\n",
    "\n",
    "\n",
    "for s in range(0,integrals_ijks.shape[0]):\n",
    "    for i in range(0,two_electron_integrals.shape[0]):\n",
    "        for j in range(0,two_electron_integrals.shape[1]):\n",
    "            for k in range(0,two_electron_integrals.shape[2]):\n",
    "                for l in range(0,two_electron_integrals.shape[3]):\n",
    "                    integrals_ijks[i,j,k,s]+=C_ao_mo[l,s]*two_electron_integrals[i,j,k,l]\n",
    "    \n",
    "for s in range(0,integrals_ijrs.shape[0]):\n",
    "    for r in range(0,integrals_ijrs.shape[1]):\n",
    "        for i in range(0,two_electron_integrals.shape[0]):\n",
    "            for j in range(0,two_electron_integrals.shape[1]):\n",
    "                for k in range(0,two_electron_integrals.shape[2]):\n",
    "                    integrals_ijrs[i,j,r,s]+=C_ao_mo[k,r]*integrals_ijks[i,j,k,s]\n",
    "\n",
    "for s in range(0,integrals_iqrs.shape[0]):\n",
    "    for r in range(0,integrals_iqrs.shape[1]):\n",
    "        for q in range(0,integrals_iqrs.shape[2]):\n",
    "            for i in range(0,two_electron_integrals.shape[0]):\n",
    "                for j in range(0,two_electron_integrals.shape[1]):\n",
    "                    integrals_iqrs[i,q,r,s]+=C_ao_mo[j,q]*integrals_ijrs[i,j,r,s]\n",
    "\n",
    "for s in range(0,integrals_pqrs.shape[0]):\n",
    "    for r in range(0,integrals_pqrs.shape[1]):\n",
    "        for q in range(0,integrals_pqrs.shape[2]):\n",
    "            for p in range(0,integrals_pqrs.shape[3]):\n",
    "                for i in range(0,two_electron_integrals.shape[0]):\n",
    "                    integrals_pqrs[p,q,r,s]+=C_ao_mo[i,p]*integrals_iqrs[i,q,r,s]\n",
    "                    \n",
    "    \n",
    "#for s in range(0,integrals_pqrs.shape[0]):\n",
    " #   for r in range(0,integrals_pqrs.shape[1]):\n",
    "  #      for q in range(0,integrals_pqrs.shape[2]):\n",
    "   #         for p in range(0,integrals_pqrs.shape[3]):             \n",
    "print(integrals_pqrs)\n",
    "\n"
   ]
  },
  {
   "cell_type": "code",
   "execution_count": null,
   "metadata": {},
   "outputs": [],
   "source": [
    "B = np.zeros((mo_integrals.shape[0],mo_integrals.shape[0],mo_integrals.shape[0],mo_integrals.shape[0]))\n",
    "\n",
    "for a in range(0,mol.nelectron//2):\n",
    "    for r in range(mol.nelectron//2,B.shape[1]):\n",
    "        for b in range(0,mol.nelectron//2):\n",
    "            for s in range(mol.nelectron//2,B.shape[3]):\n",
    "                B[a,r,b,s]+=mo_integrals[r,s,a,b]-mo_integrals[r,s,b,a]"
   ]
  },
  {
   "cell_type": "code",
   "execution_count": null,
   "metadata": {},
   "outputs": [],
   "source": [
    "A = np.zeros((mo_integrals.shape[0],mo_integrals.shape[0],mo_integrals.shape[0],mo_integrals.shape[0]))\n",
    "\n",
    "for a in range(0,mol.nelectron//2):\n",
    "    for r in range(mol.nelectron//2,B.shape[1]):\n",
    "        for b in range(0,mol.nelectron//2):\n",
    "            for s in range(mol.nelectron//2,B.shape[3]):\n",
    "                A[a,r,b,s]+=mo_integrals[r,b,a,s]-mo_integrals[r,b,s,a]\n",
    "                if a==b and r==s:\n",
    "                    A[a,r,b,s]+= (F_diag_procedure[0][r] - F_diag_procedure[0][a])\n",
    "\n",
    "#for i in range(0,A.shape[0]):\n",
    "#    A[i,i,i,i]=A[i,i,i,i]+"
   ]
  }
 ],
 "metadata": {
  "kernelspec": {
   "display_name": "Python 3",
   "language": "python",
   "name": "python3"
  },
  "language_info": {
   "codemirror_mode": {
    "name": "ipython",
    "version": 3
   },
   "file_extension": ".py",
   "mimetype": "text/x-python",
   "name": "python",
   "nbconvert_exporter": "python",
   "pygments_lexer": "ipython3",
   "version": "3.7.1"
  }
 },
 "nbformat": 4,
 "nbformat_minor": 2
}
